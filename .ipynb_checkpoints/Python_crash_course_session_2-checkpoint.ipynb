{
 "cells": [
  {
   "cell_type": "markdown",
   "id": "62cb9dea-1f9a-4914-a191-c4e09a341829",
   "metadata": {},
   "source": [
    "<!-- PROFILE LINK -->\n",
    "<h1 style = \"text-align:center; font-size: 30px\">PROGRAMACIÓN CONCURRENTE Y DISTRIBUIDA</h1>\n",
    "<a href =\"https://github.com/sukuzhanay\">\n",
    "<img src=\"https://avatars.githubusercontent.com/u/17354471?v=4\" style=\"float:left;vertical-align:centre\" width=\"110\" height=\"110\" title = \"Christian Vlaldimir Sucuzhanay Arevalo 21535220\">\n",
    "<a href =\"https://github.com/sukuzhanay?tab=repositories\">\n",
    "<img src=\"https://media-exp1.licdn.com/dms/image/C4D0BAQEu_Aa76fcmPw/company-logo_200_200/0/1630998679429?e=2159024400&v=beta&t=2feC9GG7RWCWizTqsK5HzDWB1TL2DOQuAVwnMf6FFvk\" title = \"M41\" alt=\"UE\" width=\"110\" height=\"110\" style=\"float:right;vertical-align:centre\">"
   ]
  },
  {
   "cell_type": "markdown",
   "id": "b5aae5fa",
   "metadata": {},
   "source": [
    "# Python crash course\n",
    "## *Session 2*"
   ]
  },
  {
   "cell_type": "markdown",
   "id": "08131300",
   "metadata": {},
   "source": [
    "En sesión anterior vimos que tenemos disponibles una serie de tipos básicos:\n",
    "* Cadenas de texto.\n",
    "* Booleanos.\n",
    "* Numéricos: entero, decimal, complejo.\n",
    "* Colecciones: listas, tuplas, conjuntos, diccionarios.\n",
    "Y como asignar valores a objetos (variables) para crearlos con el operador `=`.\n",
    "\n",
    "Adicionalmente tenemos funciones que nos permiten cambiar de tipo a los objetos:"
   ]
  },
  {
   "cell_type": "code",
   "execution_count": null,
   "id": "e4d3f9f9",
   "metadata": {},
   "outputs": [],
   "source": [
    "x11 = 24\n",
    "x12 = int(24)\n",
    "x21 = 33\n",
    "x22 = float(33)\n",
    "z = complex(x11)\n",
    "\n",
    "l1 = [1,2,3]\n",
    "t1 = (4,5,6)\n",
    "l2 = tuple(l1)\n",
    "t2 = list(t1)\n",
    "\n",
    "c1 = set(l1)\n",
    "\n",
    "r1 = list()\n",
    "r2 = tuple()\n",
    "r3 = set()"
   ]
  },
  {
   "cell_type": "code",
   "execution_count": null,
   "id": "388dfba6",
   "metadata": {},
   "outputs": [],
   "source": [
    "type(x22)"
   ]
  },
  {
   "cell_type": "code",
   "execution_count": null,
   "id": "6147afb8-efda-4e56-a18b-a60fa64c75b2",
   "metadata": {},
   "outputs": [],
   "source": [
    "c1"
   ]
  },
  {
   "cell_type": "code",
   "execution_count": null,
   "id": "61661ca6-0e28-4ac4-99b2-22ed7f897d38",
   "metadata": {},
   "outputs": [],
   "source": [
    "r3"
   ]
  },
  {
   "cell_type": "code",
   "execution_count": null,
   "id": "0ac30058",
   "metadata": {},
   "outputs": [],
   "source": [
    "lista1 = [1,2,3]"
   ]
  },
  {
   "cell_type": "code",
   "execution_count": null,
   "id": "c95af80c",
   "metadata": {},
   "outputs": [],
   "source": [
    "lista2 = lista1"
   ]
  },
  {
   "cell_type": "code",
   "execution_count": null,
   "id": "f563a2f2",
   "metadata": {},
   "outputs": [],
   "source": [
    "print(lista1)\n",
    "print(lista2)"
   ]
  },
  {
   "cell_type": "code",
   "execution_count": null,
   "id": "f7740872",
   "metadata": {},
   "outputs": [],
   "source": [
    "lista2[1]= 99"
   ]
  },
  {
   "cell_type": "code",
   "execution_count": null,
   "id": "e5cc913f",
   "metadata": {},
   "outputs": [],
   "source": [
    "print(lista1)\n",
    "print(lista2)"
   ]
  },
  {
   "cell_type": "code",
   "execution_count": null,
   "id": "5dc75065",
   "metadata": {},
   "outputs": [],
   "source": [
    "lista1.append(88)"
   ]
  },
  {
   "cell_type": "code",
   "execution_count": null,
   "id": "9fe1fc43",
   "metadata": {},
   "outputs": [],
   "source": [
    "print(lista1)\n",
    "print(lista2)"
   ]
  },
  {
   "cell_type": "code",
   "execution_count": null,
   "id": "79a5c6b8",
   "metadata": {},
   "outputs": [],
   "source": [
    "lista3 = lista1.copy()"
   ]
  },
  {
   "cell_type": "code",
   "execution_count": null,
   "id": "8d77c87a",
   "metadata": {},
   "outputs": [],
   "source": [
    "lista3.append(77)"
   ]
  },
  {
   "cell_type": "code",
   "execution_count": null,
   "id": "dab59b3b",
   "metadata": {},
   "outputs": [],
   "source": [
    "print(lista1)\n",
    "print(lista2)\n",
    "print(lista3)"
   ]
  },
  {
   "cell_type": "code",
   "execution_count": null,
   "id": "9db397ad",
   "metadata": {},
   "outputs": [],
   "source": [
    "lista1.append(66)"
   ]
  },
  {
   "cell_type": "code",
   "execution_count": null,
   "id": "4dd5f6aa",
   "metadata": {},
   "outputs": [],
   "source": [
    "print(lista1)\n",
    "print(lista2)\n",
    "print(lista3)"
   ]
  },
  {
   "cell_type": "markdown",
   "id": "bde8ae70",
   "metadata": {},
   "source": [
    "También existe una función para comprobar si un objeto es de un determinado tipo"
   ]
  },
  {
   "cell_type": "code",
   "execution_count": 1,
   "id": "fafdbd92",
   "metadata": {},
   "outputs": [],
   "source": [
    "v1 = 99"
   ]
  },
  {
   "cell_type": "code",
   "execution_count": 2,
   "id": "7208f5ef",
   "metadata": {},
   "outputs": [
    {
     "name": "stdout",
     "output_type": "stream",
     "text": [
      "True False\n"
     ]
    }
   ],
   "source": [
    "print(isinstance(v1, int), isinstance(v1, float)) "
   ]
  },
  {
   "cell_type": "markdown",
   "id": "fe9b6d77",
   "metadata": {},
   "source": [
    "### El tipo conjunto\n",
    "\n",
    "Un conjunto es una colección de elementos no ordenados, no modificables y no permite duplicados.\n",
    "\n",
    "Su definición se realiza mediante llaves `{ }`.\n",
    "También existe el tipo `frozenset` que es una versión no inmutable del conjunto.\n",
    "\n",
    "Al tratarse de conjuntos vamos a poder aplicar las operaciones de conjuntos.\n",
    "* Inclusión\n",
    "* Intersección\n",
    "* Unión\n"
   ]
  },
  {
   "cell_type": "code",
   "execution_count": 3,
   "id": "6ab964e4",
   "metadata": {},
   "outputs": [
    {
     "name": "stdout",
     "output_type": "stream",
     "text": [
      "{(1+5j), 1, 'perro', 90, 'casa'}\n",
      "{1, 90.0, 3.2, 25}\n"
     ]
    }
   ],
   "source": [
    "A = {'casa', 'perro', 1, 1+5j, 90, 90.0}; print(A)\n",
    "B = {1, 3.2, 25, 90.0}; print(B)"
   ]
  },
  {
   "cell_type": "code",
   "execution_count": 4,
   "id": "a7b1b656",
   "metadata": {},
   "outputs": [
    {
     "name": "stdout",
     "output_type": "stream",
     "text": [
      "False\n",
      "True\n"
     ]
    }
   ],
   "source": [
    "# INCLUSION DE ELEMENTOS\n",
    "print('gato' in A)\n",
    "print('perro' in A)"
   ]
  },
  {
   "cell_type": "code",
   "execution_count": 5,
   "id": "995f9ee2",
   "metadata": {},
   "outputs": [
    {
     "data": {
      "text/plain": [
       "False"
      ]
     },
     "execution_count": 5,
     "metadata": {},
     "output_type": "execute_result"
    }
   ],
   "source": [
    "{1, 90} in A"
   ]
  },
  {
   "cell_type": "code",
   "execution_count": 6,
   "id": "2b702814",
   "metadata": {},
   "outputs": [
    {
     "name": "stdout",
     "output_type": "stream",
     "text": [
      "{1, 3.2, (1+5j), 'perro', 25, 90, 'casa'}\n",
      "{1, 3.2, (1+5j), 'perro', 25, 90.0, 'casa'}\n"
     ]
    }
   ],
   "source": [
    "# UNION DE DOS O MAS CONJUNTOS\n",
    "print(A | B)\n",
    "print(B | A)"
   ]
  },
  {
   "cell_type": "code",
   "execution_count": 7,
   "id": "4653cb68",
   "metadata": {},
   "outputs": [
    {
     "ename": "TypeError",
     "evalue": "unsupported operand type(s) for |: 'set' and 'tuple'",
     "output_type": "error",
     "traceback": [
      "\u001b[1;31m---------------------------------------------------------------------------\u001b[0m",
      "\u001b[1;31mTypeError\u001b[0m                                 Traceback (most recent call last)",
      "Cell \u001b[1;32mIn[7], line 1\u001b[0m\n\u001b[1;32m----> 1\u001b[0m \u001b[43mA\u001b[49m\u001b[43m \u001b[49m\u001b[38;5;241;43m|\u001b[39;49m\u001b[43m \u001b[49m\u001b[43m(\u001b[49m\u001b[38;5;241;43m25\u001b[39;49m\u001b[43m,\u001b[49m\u001b[38;5;241;43m6\u001b[39;49m\u001b[43m,\u001b[49m\u001b[38;5;124;43m'\u001b[39;49m\u001b[38;5;124;43mgato\u001b[39;49m\u001b[38;5;124;43m'\u001b[39;49m\u001b[43m)\u001b[49m\n",
      "\u001b[1;31mTypeError\u001b[0m: unsupported operand type(s) for |: 'set' and 'tuple'"
     ]
    }
   ],
   "source": [
    "A | (25,6,'gato')"
   ]
  },
  {
   "cell_type": "code",
   "execution_count": 8,
   "id": "3974d32f",
   "metadata": {},
   "outputs": [
    {
     "data": {
      "text/plain": [
       "{(1+5j), 1, 25, 3.2, 90, 'casa', 'perro'}"
      ]
     },
     "execution_count": 8,
     "metadata": {},
     "output_type": "execute_result"
    }
   ],
   "source": [
    "A.union(B)"
   ]
  },
  {
   "cell_type": "code",
   "execution_count": 9,
   "id": "25112962",
   "metadata": {},
   "outputs": [
    {
     "data": {
      "text/plain": [
       "{(1+5j), 1, 25, 6, 90, 'casa', 'gato', 'perro'}"
      ]
     },
     "execution_count": 9,
     "metadata": {},
     "output_type": "execute_result"
    }
   ],
   "source": [
    "A.union((25,6,'gato'))"
   ]
  },
  {
   "cell_type": "code",
   "execution_count": 10,
   "id": "a7dd17b5",
   "metadata": {},
   "outputs": [
    {
     "data": {
      "text/plain": [
       "{1, 90.0}"
      ]
     },
     "execution_count": 10,
     "metadata": {},
     "output_type": "execute_result"
    }
   ],
   "source": [
    "# INTERSECCIÓN DE DOS O MÁS CONJUNTOS\n",
    "A & B"
   ]
  },
  {
   "cell_type": "code",
   "execution_count": 11,
   "id": "a5a44ed0",
   "metadata": {},
   "outputs": [
    {
     "data": {
      "text/plain": [
       "{1, 90.0}"
      ]
     },
     "execution_count": 11,
     "metadata": {},
     "output_type": "execute_result"
    }
   ],
   "source": [
    "B.intersection(A)"
   ]
  },
  {
   "cell_type": "code",
   "execution_count": null,
   "id": "0e4af082",
   "metadata": {},
   "outputs": [],
   "source": [
    "# DIFERENCIA DE CONJUNTOS"
   ]
  },
  {
   "cell_type": "code",
   "execution_count": 12,
   "id": "d6396bba",
   "metadata": {},
   "outputs": [
    {
     "data": {
      "text/plain": [
       "{(1+5j), 'casa', 'perro'}"
      ]
     },
     "execution_count": 12,
     "metadata": {},
     "output_type": "execute_result"
    }
   ],
   "source": [
    "A - B"
   ]
  },
  {
   "cell_type": "code",
   "execution_count": 13,
   "id": "4b0ee20d",
   "metadata": {},
   "outputs": [
    {
     "data": {
      "text/plain": [
       "{(1+5j), 'casa', 'perro'}"
      ]
     },
     "execution_count": 13,
     "metadata": {},
     "output_type": "execute_result"
    }
   ],
   "source": [
    "A.difference(B)"
   ]
  },
  {
   "cell_type": "code",
   "execution_count": 14,
   "id": "ae1aeaf6",
   "metadata": {},
   "outputs": [
    {
     "data": {
      "text/plain": [
       "{(1+5j), 25, 3.2, 'casa', 'perro'}"
      ]
     },
     "execution_count": 14,
     "metadata": {},
     "output_type": "execute_result"
    }
   ],
   "source": [
    "# Diferencia simétrica\n",
    "A ^ B"
   ]
  },
  {
   "cell_type": "code",
   "execution_count": 15,
   "id": "442b4f27",
   "metadata": {},
   "outputs": [
    {
     "data": {
      "text/plain": [
       "{(1+5j), 25, 3.2, 'casa', 'perro'}"
      ]
     },
     "execution_count": 15,
     "metadata": {},
     "output_type": "execute_result"
    }
   ],
   "source": [
    "A.union(B).difference(A.intersection(B))"
   ]
  },
  {
   "cell_type": "code",
   "execution_count": 16,
   "id": "5cc8d7d8",
   "metadata": {},
   "outputs": [
    {
     "data": {
      "text/plain": [
       "False"
      ]
     },
     "execution_count": 16,
     "metadata": {},
     "output_type": "execute_result"
    }
   ],
   "source": [
    "# Comprobación de si existen elementos en común.\n",
    "A.isdisjoint(B)"
   ]
  },
  {
   "cell_type": "code",
   "execution_count": 17,
   "id": "e11ae7ad",
   "metadata": {},
   "outputs": [
    {
     "data": {
      "text/plain": [
       "True"
      ]
     },
     "execution_count": 17,
     "metadata": {},
     "output_type": "execute_result"
    }
   ],
   "source": [
    "{1, 90}.issubset(A) #inclusión de subconjuntos"
   ]
  },
  {
   "cell_type": "code",
   "execution_count": 18,
   "id": "14b094ef",
   "metadata": {},
   "outputs": [
    {
     "data": {
      "text/plain": [
       "True"
      ]
     },
     "execution_count": 18,
     "metadata": {},
     "output_type": "execute_result"
    }
   ],
   "source": [
    "{1, 90} < A"
   ]
  },
  {
   "cell_type": "code",
   "execution_count": 19,
   "id": "e3a763ec",
   "metadata": {},
   "outputs": [
    {
     "data": {
      "text/plain": [
       "True"
      ]
     },
     "execution_count": 19,
     "metadata": {},
     "output_type": "execute_result"
    }
   ],
   "source": [
    "{1, 90} <= A"
   ]
  },
  {
   "cell_type": "markdown",
   "id": "69bcfaf1",
   "metadata": {},
   "source": [
    "Cada tipo tiene asociados una serie de métodos (funciones) que nos permiten trabajar con ellos, los podíamos ver al pulsar tabulador después del punto que sigue al objeto que queremos tratar."
   ]
  },
  {
   "cell_type": "markdown",
   "id": "3ca059f4",
   "metadata": {},
   "source": [
    "#### Algunos métodos de cadenas de texto"
   ]
  },
  {
   "cell_type": "code",
   "execution_count": null,
   "id": "e5d73780",
   "metadata": {},
   "outputs": [],
   "source": [
    "str1 = 'Hablen niños ratas de las UEM'"
   ]
  },
  {
   "cell_type": "code",
   "execution_count": null,
   "id": "f413672d",
   "metadata": {},
   "outputs": [],
   "source": [
    "str1.split('las') # Genera una lista con cada fragmento de la cadena en una posición según el separador indicado."
   ]
  },
  {
   "cell_type": "code",
   "execution_count": null,
   "id": "f28f665f",
   "metadata": {},
   "outputs": [],
   "source": [
    "print(str1.lower()) # en minúsculas\n",
    "print(str1.upper()) # en mayúsculas"
   ]
  },
  {
   "cell_type": "code",
   "execution_count": null,
   "id": "fe811cb9",
   "metadata": {},
   "outputs": [],
   "source": [
    "str1.strip(' ') # elimina el caracter indicado."
   ]
  },
  {
   "cell_type": "markdown",
   "id": "d5c9fd5e",
   "metadata": {},
   "source": [
    "Existen algunas funciones básicas que son propias de Python base:"
   ]
  },
  {
   "cell_type": "code",
   "execution_count": null,
   "id": "69df2e7b",
   "metadata": {},
   "outputs": [],
   "source": [
    "print(str1) # parar imprimir cadenas de texto."
   ]
  },
  {
   "cell_type": "code",
   "execution_count": null,
   "id": "5c1f04ef",
   "metadata": {},
   "outputs": [],
   "source": [
    "len(str1) #longitud de un objeto, que tenga medida"
   ]
  },
  {
   "cell_type": "code",
   "execution_count": null,
   "id": "191cbdc6",
   "metadata": {},
   "outputs": [],
   "source": [
    "globals() #listar variables"
   ]
  },
  {
   "cell_type": "code",
   "execution_count": null,
   "id": "0372790f",
   "metadata": {},
   "outputs": [],
   "source": [
    "dir() #lista de variables"
   ]
  },
  {
   "cell_type": "markdown",
   "id": "f94c366d",
   "metadata": {},
   "source": [
    "Existen disferentes comandos _mágicos_ del notebook que nos permiten hacer otras cosas"
   ]
  },
  {
   "cell_type": "code",
   "execution_count": null,
   "id": "15c65af2",
   "metadata": {},
   "outputs": [],
   "source": [
    "# listar variables\n",
    "%who "
   ]
  },
  {
   "cell_type": "code",
   "execution_count": null,
   "id": "c5d7070f",
   "metadata": {},
   "outputs": [],
   "source": [
    "#Listar variables tipo y valor\n",
    "%whos"
   ]
  },
  {
   "cell_type": "code",
   "execution_count": null,
   "id": "c0489500",
   "metadata": {},
   "outputs": [],
   "source": [
    "%timeit\n",
    "x=1"
   ]
  },
  {
   "cell_type": "code",
   "execution_count": null,
   "id": "d557d888",
   "metadata": {},
   "outputs": [],
   "source": [
    "# eliminar una o varias variables\n",
    "del x12"
   ]
  },
  {
   "cell_type": "code",
   "execution_count": null,
   "id": "8c93146e",
   "metadata": {},
   "outputs": [],
   "source": [
    "%who"
   ]
  },
  {
   "cell_type": "markdown",
   "id": "c73bdf8e",
   "metadata": {},
   "source": [
    "#### Algunos métodos de las listas"
   ]
  },
  {
   "cell_type": "code",
   "execution_count": null,
   "id": "02aa94e2",
   "metadata": {},
   "outputs": [],
   "source": [
    "lista = [1,2,3,4,5,6,7,8,9,10]"
   ]
  },
  {
   "cell_type": "code",
   "execution_count": null,
   "id": "4e5926d4",
   "metadata": {},
   "outputs": [],
   "source": [
    "lista.append(25) # Añade valor al final de la lista"
   ]
  },
  {
   "cell_type": "code",
   "execution_count": null,
   "id": "0213e2a1",
   "metadata": {},
   "outputs": [],
   "source": [
    "lista.pop() # Devuelve el último valor de la lista y lo elimina."
   ]
  },
  {
   "cell_type": "code",
   "execution_count": null,
   "id": "c2830062",
   "metadata": {},
   "outputs": [],
   "source": [
    "otra_lista = lista.copy() # Permite copiar los valores de una lista a otra."
   ]
  },
  {
   "cell_type": "code",
   "execution_count": null,
   "id": "6529879d",
   "metadata": {},
   "outputs": [],
   "source": [
    "lista.reverse() #invierte el orden"
   ]
  },
  {
   "cell_type": "code",
   "execution_count": null,
   "id": "e236dc5c",
   "metadata": {},
   "outputs": [],
   "source": [
    "lista.sort() #orden la lista"
   ]
  },
  {
   "cell_type": "code",
   "execution_count": null,
   "id": "11f5c45b",
   "metadata": {},
   "outputs": [],
   "source": [
    "lista.clear() #elimina todos los elementos."
   ]
  },
  {
   "cell_type": "markdown",
   "id": "61fcd75d",
   "metadata": {},
   "source": [
    "# Ejercicios"
   ]
  },
  {
   "cell_type": "code",
   "execution_count": 6,
   "id": "b3ae26c1",
   "metadata": {},
   "outputs": [],
   "source": [
    "from random import seed, random, randint, gauss, choice, sample"
   ]
  },
  {
   "cell_type": "code",
   "execution_count": 7,
   "id": "2d6d92e3-d735-491d-a612-b1ee178b8882",
   "metadata": {},
   "outputs": [
    {
     "data": {
      "text/plain": [
       "0.900214752208243"
      ]
     },
     "execution_count": 7,
     "metadata": {},
     "output_type": "execute_result"
    }
   ],
   "source": [
    "random()"
   ]
  },
  {
   "cell_type": "code",
   "execution_count": 8,
   "id": "e40c1dc6-027d-4ee0-aefc-e08700964b8a",
   "metadata": {},
   "outputs": [
    {
     "name": "stdout",
     "output_type": "stream",
     "text": [
      "0\n",
      "1\n",
      "2\n",
      "3\n",
      "4\n",
      "5\n",
      "6\n",
      "7\n",
      "8\n",
      "9\n",
      "10\n",
      "11\n",
      "12\n",
      "13\n",
      "14\n",
      "15\n",
      "16\n",
      "17\n",
      "18\n",
      "19\n",
      "20\n",
      "21\n",
      "22\n",
      "23\n",
      "24\n",
      "25\n",
      "26\n",
      "27\n",
      "28\n",
      "29\n",
      "30\n",
      "31\n",
      "32\n",
      "33\n",
      "34\n",
      "35\n",
      "36\n",
      "37\n",
      "38\n",
      "39\n",
      "40\n",
      "41\n",
      "42\n",
      "43\n",
      "44\n",
      "45\n",
      "46\n",
      "47\n",
      "48\n",
      "49\n",
      "50\n",
      "51\n",
      "52\n",
      "53\n",
      "54\n",
      "55\n",
      "56\n",
      "57\n",
      "58\n",
      "59\n",
      "60\n",
      "61\n",
      "62\n",
      "63\n",
      "64\n",
      "65\n",
      "66\n",
      "67\n",
      "68\n",
      "69\n",
      "70\n",
      "71\n",
      "72\n",
      "73\n",
      "74\n",
      "75\n",
      "76\n",
      "77\n",
      "78\n",
      "79\n",
      "80\n",
      "81\n",
      "82\n",
      "83\n",
      "84\n",
      "85\n",
      "86\n",
      "87\n",
      "88\n",
      "89\n",
      "90\n",
      "91\n",
      "92\n",
      "93\n",
      "94\n",
      "95\n",
      "96\n",
      "97\n",
      "98\n",
      "99\n",
      "100\n",
      "101\n",
      "102\n",
      "103\n",
      "104\n",
      "105\n",
      "106\n",
      "107\n",
      "108\n",
      "109\n"
     ]
    }
   ],
   "source": [
    "for i in range(110):\n",
    "    print(i)"
   ]
  },
  {
   "cell_type": "code",
   "execution_count": 9,
   "id": "72c1bba7",
   "metadata": {},
   "outputs": [
    {
     "name": "stdout",
     "output_type": "stream",
     "text": [
      "[0.5714025946899135, 0.4288890546751146, 0.5780913011344704, 0.20609823213950174]\n"
     ]
    }
   ],
   "source": [
    "seed(10)\n",
    "lista = [random() for i in range(4)]\n",
    "print(lista)"
   ]
  },
  {
   "cell_type": "markdown",
   "id": "65b6aa1e",
   "metadata": {},
   "source": [
    "### Suma de los elementos de una lista"
   ]
  },
  {
   "cell_type": "code",
   "execution_count": 10,
   "id": "72562a98",
   "metadata": {},
   "outputs": [
    {
     "name": "stdout",
     "output_type": "stream",
     "text": [
      "1.7844811826390004\n"
     ]
    }
   ],
   "source": [
    "suma = 0\n",
    "for numero in lista:\n",
    "    suma = suma + numero\n",
    "print(suma)\n"
   ]
  },
  {
   "cell_type": "markdown",
   "id": "859e60e1",
   "metadata": {},
   "source": [
    "### Recuento de los elementos de una lista"
   ]
  },
  {
   "cell_type": "code",
   "execution_count": 11,
   "id": "8fcfaaee",
   "metadata": {},
   "outputs": [
    {
     "name": "stdout",
     "output_type": "stream",
     "text": [
      "4\n"
     ]
    }
   ],
   "source": [
    "recuento = 0\n",
    "for numero in lista:\n",
    "    recuento = recuento + 1\n",
    "print(recuento)"
   ]
  },
  {
   "cell_type": "code",
   "execution_count": 12,
   "id": "ae768438",
   "metadata": {},
   "outputs": [],
   "source": [
    "def recuento(ls1):\n",
    "    \"\"\"Función que aceptada como entrada una lista de números y \n",
    "    realiza el recuento de sus elementos\"\"\"\n",
    "    x = 0\n",
    "    for i in ls1:\n",
    "        x = x + 1\n",
    "    return x"
   ]
  },
  {
   "cell_type": "code",
   "execution_count": 13,
   "id": "6291c6af",
   "metadata": {},
   "outputs": [
    {
     "name": "stdout",
     "output_type": "stream",
     "text": [
      "Help on function recuento in module __main__:\n",
      "\n",
      "recuento(ls1)\n",
      "    Función que aceptada como entrada una lista de números y \n",
      "    realiza el recuento de sus elementos\n",
      "\n"
     ]
    }
   ],
   "source": [
    "help(recuento)"
   ]
  },
  {
   "cell_type": "code",
   "execution_count": 14,
   "id": "17ec775b",
   "metadata": {},
   "outputs": [],
   "source": [
    "n = recuento(lista)"
   ]
  },
  {
   "cell_type": "code",
   "execution_count": 51,
   "id": "83989e27-ef8e-42d3-9214-7bf2f02bb387",
   "metadata": {},
   "outputs": [
    {
     "data": {
      "text/plain": [
       "4"
      ]
     },
     "execution_count": 51,
     "metadata": {},
     "output_type": "execute_result"
    }
   ],
   "source": [
    "n"
   ]
  },
  {
   "cell_type": "markdown",
   "id": "05d92aff",
   "metadata": {},
   "source": [
    "### Programa una función que devuelva la varianza y desviación típica de los valores de una lista\n",
    "$$S^2=\\frac{1}{n}\\sum_{i=1}^n (x_i - \\bar{x})^2$$"
   ]
  },
  {
   "cell_type": "code",
   "execution_count": 15,
   "id": "2a7b2dd8",
   "metadata": {},
   "outputs": [],
   "source": [
    "def varianza(ls):\n",
    "    \"\"\"Función que calcula la varianza y desviación típica de los valores de \n",
    "    una lista de números.\"\"\"\n",
    "    suma = 0\n",
    "    recuento = 0\n",
    "    for x in ls:\n",
    "        suma = suma + x\n",
    "        recuento = recuento + 1\n",
    "    media = suma / recuento\n",
    "    \n",
    "    var = 0\n",
    "    for x in ls:\n",
    "        var = var + (x - media)**2\n",
    "    var = var / recuento\n",
    "    \n",
    "    sd = var**(1/2)\n",
    "    \n",
    "    return [var, sd]"
   ]
  },
  {
   "cell_type": "code",
   "execution_count": 16,
   "id": "a3a55898",
   "metadata": {},
   "outputs": [
    {
     "data": {
      "text/plain": [
       "[0.022754876844670164, 0.15084719700634203]"
      ]
     },
     "execution_count": 16,
     "metadata": {},
     "output_type": "execute_result"
    }
   ],
   "source": [
    "varianza(lista)"
   ]
  },
  {
   "cell_type": "markdown",
   "id": "960aaf95",
   "metadata": {},
   "source": [
    "### Factorial de un número\n",
    "\n",
    "$$n!=1\\cdot 2\\cdot...\\cdot (n-1)\\cdot n = n\\cdot (n-1)!$$"
   ]
  },
  {
   "cell_type": "code",
   "execution_count": 53,
   "id": "56db99cc",
   "metadata": {},
   "outputs": [],
   "source": [
    "def factorial1(n):\n",
    "    \"\"\"Función que calcula el factorial de un número.\"\"\"\n",
    "    producto = 1\n",
    "    for x in range(1,n+1):\n",
    "        producto = producto * x\n",
    "    return producto"
   ]
  },
  {
   "cell_type": "code",
   "execution_count": 55,
   "id": "d1e61241-e621-4ca4-bbb7-852e64ad9210",
   "metadata": {},
   "outputs": [
    {
     "data": {
      "text/plain": [
       "3628800"
      ]
     },
     "execution_count": 55,
     "metadata": {},
     "output_type": "execute_result"
    }
   ],
   "source": [
    "factorial1(10)"
   ]
  },
  {
   "cell_type": "code",
   "execution_count": 54,
   "id": "051eb8a9",
   "metadata": {},
   "outputs": [
    {
     "name": "stdout",
     "output_type": "stream",
     "text": [
      "649 ns ± 22.2 ns per loop (mean ± std. dev. of 7 runs, 1,000,000 loops each)\n"
     ]
    }
   ],
   "source": [
    "%%timeit\n",
    "factorial1(10)"
   ]
  },
  {
   "cell_type": "code",
   "execution_count": 1,
   "id": "6cc35b43",
   "metadata": {},
   "outputs": [],
   "source": [
    "def factorial2(n):\n",
    "    \"\"\"...\"\"\"\n",
    "    if n in (0,1):\n",
    "        return 1\n",
    "    else:\n",
    "        return n * factorial2(n-1)"
   ]
  },
  {
   "cell_type": "code",
   "execution_count": 2,
   "id": "be225cdd",
   "metadata": {},
   "outputs": [
    {
     "data": {
      "text/plain": [
       "3628800"
      ]
     },
     "execution_count": 2,
     "metadata": {},
     "output_type": "execute_result"
    }
   ],
   "source": [
    "factorial2(10)"
   ]
  },
  {
   "cell_type": "markdown",
   "id": "ff9b7c42",
   "metadata": {},
   "source": [
    "### Programa una función que compruebe si un número es par"
   ]
  },
  {
   "cell_type": "code",
   "execution_count": 46,
   "id": "1e627b55",
   "metadata": {},
   "outputs": [],
   "source": [
    "def es_par(x):\n",
    "    \"\"\"...\"\"\"\n",
    "    return (x % 2) == 0"
   ]
  },
  {
   "cell_type": "code",
   "execution_count": 47,
   "id": "f976eed3",
   "metadata": {},
   "outputs": [],
   "source": [
    "def es_par(x):\n",
    "    \"\"\"...\"\"\"\n",
    "    if (x % 2) == 0:\n",
    "        return True\n",
    "    else:\n",
    "        return False"
   ]
  },
  {
   "cell_type": "code",
   "execution_count": 48,
   "id": "2b506dd5",
   "metadata": {},
   "outputs": [
    {
     "data": {
      "text/plain": [
       "True"
      ]
     },
     "execution_count": 48,
     "metadata": {},
     "output_type": "execute_result"
    }
   ],
   "source": [
    "es_par(14)"
   ]
  },
  {
   "cell_type": "markdown",
   "id": "38381873",
   "metadata": {},
   "source": [
    "# Serie de Fibonacci\n",
    "\n",
    "La secuencia de Fibonacci se define como $X_n = X_{n-1} + X_{n-2}$ con $X_0 = 0$ y $X_1 = 1$.\n",
    "\n",
    "Definamos una función que nos calcule el valor de la serie hasta un valor n.\n",
    "0, 1, 1, 2, 3, 5, 8, 13, 21,..."
   ]
  },
  {
   "cell_type": "code",
   "execution_count": 17,
   "id": "cd3a1ed7",
   "metadata": {},
   "outputs": [
    {
     "name": "stdout",
     "output_type": "stream",
     "text": [
      "[0, 1]\n",
      "[0, 1, 1]\n",
      "[0, 1, 1, 2]\n",
      "[0, 1, 1, 2, 3]\n"
     ]
    }
   ],
   "source": [
    "x = [0, 1];print(x)\n",
    "i = 1\n",
    "x = x + [x[0] + x[1]]\n",
    "print(x)\n",
    "x = x + [x[1] + x[2]]\n",
    "print(x)\n",
    "x = x + [x[2] + x[3]]\n",
    "print(x)"
   ]
  },
  {
   "cell_type": "code",
   "execution_count": 18,
   "id": "2f56f8f3",
   "metadata": {},
   "outputs": [
    {
     "name": "stdout",
     "output_type": "stream",
     "text": [
      "[0, 1]\n",
      "[0, 1, 1]\n",
      "[0, 1, 1, 2]\n",
      "[0, 1, 1, 2, 3]\n",
      "[0, 1, 1, 2, 3, 5]\n"
     ]
    }
   ],
   "source": [
    "x = [0, 1];print(x)\n",
    "i = 1\n",
    "x = x + [x[i-1] + x[i]]\n",
    "print(x)\n",
    "i += 1\n",
    "x = x + [x[i-1] + x[i]]\n",
    "print(x)\n",
    "i += 1\n",
    "x = x + [x[i-1] + x[i]]\n",
    "print(x)\n",
    "i += 1\n",
    "x = x + [x[i-1] + x[i]]\n",
    "print(x)"
   ]
  },
  {
   "cell_type": "code",
   "execution_count": 21,
   "id": "5c0574d2",
   "metadata": {},
   "outputs": [
    {
     "name": "stdout",
     "output_type": "stream",
     "text": [
      "[0, 1, 1, 2, 3]\n"
     ]
    }
   ],
   "source": [
    "x = [0, 1]\n",
    "n = 5\n",
    "for i in range(1, n - 1):\n",
    "    x = x + [x[i] + x[i-1]]\n",
    "print(x)"
   ]
  },
  {
   "cell_type": "code",
   "execution_count": 26,
   "id": "bf71975c",
   "metadata": {},
   "outputs": [],
   "source": [
    "def serie_fibonacci(n_elem):\n",
    "    salida = []\n",
    "    for i in range(n_elem):\n",
    "        salida.append(fibonacci(i+1))\n",
    "    return salida"
   ]
  },
  {
   "cell_type": "code",
   "execution_count": 27,
   "id": "55802e58",
   "metadata": {},
   "outputs": [
    {
     "data": {
      "text/plain": [
       "[1, 1, 2, 3]"
      ]
     },
     "execution_count": 27,
     "metadata": {},
     "output_type": "execute_result"
    }
   ],
   "source": [
    "serie_fibonacci(4)"
   ]
  },
  {
   "cell_type": "code",
   "execution_count": 30,
   "id": "21f14d82",
   "metadata": {},
   "outputs": [],
   "source": [
    "def serie_fibonacci2(n_elem=0):\n",
    "    aux = [0, 1]\n",
    "    if n_elem < 1:\n",
    "        print(\"Se debe indicar como mínimo un elemento.\")\n",
    "    elif n_elem <= 2:\n",
    "        return aux[:n_elem]\n",
    "    else:\n",
    "        for i in range(2, n_elem):\n",
    "            aux.append(sum(aux[(i-2):i]))\n",
    "        return aux"
   ]
  },
  {
   "cell_type": "code",
   "execution_count": 31,
   "id": "fd4ea1e4-81d4-4b8c-9ed2-3928c15abc2f",
   "metadata": {},
   "outputs": [
    {
     "data": {
      "text/plain": [
       "[0, 1, 1, 2, 3]"
      ]
     },
     "execution_count": 31,
     "metadata": {},
     "output_type": "execute_result"
    }
   ],
   "source": [
    "serie_fibonacci2(5)"
   ]
  },
  {
   "cell_type": "markdown",
   "id": "84af9562",
   "metadata": {},
   "source": [
    "No ha sido muy complicado, pero hay otra forma de realizar su definición:"
   ]
  },
  {
   "cell_type": "code",
   "execution_count": 39,
   "id": "9dc6dce7",
   "metadata": {},
   "outputs": [],
   "source": [
    "def fibonacci(n):\n",
    "    a, b = 0, 1\n",
    "    for i in range(n):\n",
    "        a, b = b, a + b\n",
    "    return a"
   ]
  },
  {
   "cell_type": "code",
   "execution_count": 40,
   "id": "14492d55-167e-4834-948d-61e4bbffc111",
   "metadata": {},
   "outputs": [
    {
     "data": {
      "text/plain": [
       "3"
      ]
     },
     "execution_count": 40,
     "metadata": {},
     "output_type": "execute_result"
    }
   ],
   "source": [
    "fibonacci(4)"
   ]
  },
  {
   "cell_type": "code",
   "execution_count": 41,
   "id": "2abecf08",
   "metadata": {},
   "outputs": [],
   "source": [
    "def fibonacci_rec(n):\n",
    "    if n == 0:\n",
    "        resultado = 0\n",
    "    elif n == 1:\n",
    "        resultado = 1\n",
    "    else:\n",
    "        resultado = fibonacci_rec(n - 1) + fibonacci_rec(n - 2)\n",
    "    return resultado"
   ]
  },
  {
   "cell_type": "code",
   "execution_count": 43,
   "id": "454a4ed5-84cf-4d3f-bf60-65e0e1c8821d",
   "metadata": {},
   "outputs": [
    {
     "data": {
      "text/plain": [
       "1"
      ]
     },
     "execution_count": 43,
     "metadata": {},
     "output_type": "execute_result"
    }
   ],
   "source": [
    "fibonacci_rec(2)"
   ]
  },
  {
   "cell_type": "markdown",
   "id": "70797d2b",
   "metadata": {},
   "source": [
    "Como podemos ver para definir la función estamos haciendo uso de ella misma, esto es la recursión.\n",
    "\n",
    "¿cuál de las dos crees que es más rápida?\n",
    "\n",
    "<div class=\"alert alert-success\"><b>Consejo:</b> \n",
    "    \n",
    "Explora los operadores mágicos `%%time` y `%%timeit`, recuerda que debes ponerlo al principio de la celda.\n",
    "</div>\n",
    "\n",
    "Prueba a definir una función que calcule el factorial de un número natural de forma recursiva y no recursiva."
   ]
  },
  {
   "cell_type": "code",
   "execution_count": 50,
   "id": "7aa74a38-8995-4efe-9f27-76c167803117",
   "metadata": {},
   "outputs": [],
   "source": [
    "def facto(numero):\n",
    "    resultado = 1\n",
    "    for i in range(1, numero+1):\n",
    "        resultado = resultado * i\n",
    "    return resultado"
   ]
  },
  {
   "cell_type": "code",
   "execution_count": 51,
   "id": "b4c7f3d2-71b5-4216-92b6-a9631dec4bca",
   "metadata": {},
   "outputs": [
    {
     "data": {
      "text/plain": [
       "120"
      ]
     },
     "execution_count": 51,
     "metadata": {},
     "output_type": "execute_result"
    }
   ],
   "source": [
    "facto(5)"
   ]
  },
  {
   "cell_type": "code",
   "execution_count": 53,
   "id": "55ee5e44-b172-4aa0-96e0-d693a33fa627",
   "metadata": {},
   "outputs": [],
   "source": [
    "def facto_rec(numero):\n",
    "    if numero in (1,0):\n",
    "        return 1\n",
    "    else:\n",
    "        return numero * facto_rec(numero-1)"
   ]
  },
  {
   "cell_type": "code",
   "execution_count": 54,
   "id": "39dab62f-f70c-47b0-b2cf-05d11c13dabf",
   "metadata": {},
   "outputs": [
    {
     "data": {
      "text/plain": [
       "120"
      ]
     },
     "execution_count": 54,
     "metadata": {},
     "output_type": "execute_result"
    }
   ],
   "source": [
    "facto_rec(5)"
   ]
  },
  {
   "cell_type": "code",
   "execution_count": 44,
   "id": "975b0242",
   "metadata": {},
   "outputs": [
    {
     "name": "stdout",
     "output_type": "stream",
     "text": [
      "1.02 µs ± 132 ns per loop (mean ± std. dev. of 7 runs, 1,000,000 loops each)\n"
     ]
    }
   ],
   "source": [
    "%%timeit\n",
    "fibonacci(10)"
   ]
  },
  {
   "cell_type": "code",
   "execution_count": 45,
   "id": "dd599d47",
   "metadata": {},
   "outputs": [
    {
     "name": "stdout",
     "output_type": "stream",
     "text": [
      "27.8 µs ± 1.26 µs per loop (mean ± std. dev. of 7 runs, 10,000 loops each)\n"
     ]
    }
   ],
   "source": [
    "%%timeit\n",
    "fibonacci_rec(10)"
   ]
  },
  {
   "cell_type": "markdown",
   "id": "d09066e6",
   "metadata": {},
   "source": [
    "### Programa una función que aproxime al número $\\pi$ hasta cierta precisión `eps` utilizando el bucle `while` y la siguiente expresión.\n",
    "\n",
    "$$\\pi = \\sum_{k=0}^{\\infty}\\frac{2(-1)^k3^{\\frac{1}{2}-k}}{2k+1}$$\n",
    "\n",
    "$$\\frac{\\pi}{4}=\\sum_{n=0}^{\\infty}\\frac{(-1)^n}{2n+1}$$"
   ]
  },
  {
   "cell_type": "code",
   "execution_count": 61,
   "id": "7a7c3a2e-7b74-49a7-8042-229e49ce3a6c",
   "metadata": {},
   "outputs": [],
   "source": [
    "k = 0"
   ]
  },
  {
   "cell_type": "code",
   "execution_count": 62,
   "id": "239f42fc",
   "metadata": {},
   "outputs": [
    {
     "data": {
      "text/plain": [
       "3.4641016151377544"
      ]
     },
     "execution_count": 62,
     "metadata": {},
     "output_type": "execute_result"
    }
   ],
   "source": [
    "2 * ((-1) ** k) * (3 ** (1 / 2 - k)) / (2 * k + 1)"
   ]
  },
  {
   "cell_type": "code",
   "execution_count": 56,
   "id": "032581ec",
   "metadata": {},
   "outputs": [
    {
     "name": "stdout",
     "output_type": "stream",
     "text": [
      "3.14159051093808\n"
     ]
    }
   ],
   "source": [
    "pi = 0\n",
    "for k in range(10):\n",
    "    pi += 2 * ((-1) ** k) * (3 ** (1 / 2 - k)) / (2 * k + 1)\n",
    "\n",
    "print(pi)"
   ]
  },
  {
   "cell_type": "code",
   "execution_count": 63,
   "id": "bb6fac11",
   "metadata": {},
   "outputs": [],
   "source": [
    "def aproxima_pi(eps):\n",
    "    \"\"\"...\"\"\"\n",
    "    pi = 0\n",
    "    k = 0\n",
    "    while (k <= eps):\n",
    "        pi += 2 * ((-1) ** k) * (3 ** (1 / 2 - k)) / (2 * k + 1)\n",
    "        print(pi)\n",
    "        k += 1\n",
    "        \n",
    "    return pi"
   ]
  },
  {
   "cell_type": "code",
   "execution_count": 65,
   "id": "ab685f52",
   "metadata": {},
   "outputs": [
    {
     "name": "stdout",
     "output_type": "stream",
     "text": [
      "3.4641016151377544\n",
      "3.0792014356780038\n",
      "3.156181471569954\n",
      "3.13785289159568\n",
      "3.1426047456630846\n",
      "3.141308785462883\n",
      "3.1416743126988376\n",
      "3.141568715941784\n",
      "3.141599773811506\n",
      "3.14159051093808\n",
      "3.1415933045030817\n"
     ]
    },
    {
     "data": {
      "text/plain": [
       "3.1415933045030817"
      ]
     },
     "execution_count": 65,
     "metadata": {},
     "output_type": "execute_result"
    }
   ],
   "source": [
    "aproxima_pi(10)"
   ]
  },
  {
   "cell_type": "code",
   "execution_count": null,
   "id": "27b49d69",
   "metadata": {},
   "outputs": [],
   "source": []
  },
  {
   "cell_type": "markdown",
   "id": "420ad51e",
   "metadata": {},
   "source": [
    "## Programa una función que dado un número lo multiplique por 2."
   ]
  },
  {
   "cell_type": "code",
   "execution_count": 66,
   "id": "1c23d6cb",
   "metadata": {},
   "outputs": [],
   "source": [
    "def por_dos(x):\n",
    "    \"\"\"....\"\"\"\n",
    "    return 2*x"
   ]
  },
  {
   "cell_type": "code",
   "execution_count": 67,
   "id": "81bb751e",
   "metadata": {},
   "outputs": [
    {
     "data": {
      "text/plain": [
       "7.4"
      ]
     },
     "execution_count": 67,
     "metadata": {},
     "output_type": "execute_result"
    }
   ],
   "source": [
    "por_dos(3.7)"
   ]
  },
  {
   "cell_type": "markdown",
   "id": "72a71bb5",
   "metadata": {},
   "source": [
    "## Programa una función que dados dos números proporcione su suma y su producto."
   ]
  },
  {
   "cell_type": "code",
   "execution_count": 71,
   "id": "a36c0f3e",
   "metadata": {},
   "outputs": [],
   "source": [
    "def suma_producto(a, b):\n",
    "    suma = a + b\n",
    "    producto = a * b\n",
    "    return [suma, producto]"
   ]
  },
  {
   "cell_type": "code",
   "execution_count": 72,
   "id": "4ea43c2b-55bd-425c-84bd-3bec5e3e1691",
   "metadata": {},
   "outputs": [
    {
     "data": {
      "text/plain": [
       "[8, 15]"
      ]
     },
     "execution_count": 72,
     "metadata": {},
     "output_type": "execute_result"
    }
   ],
   "source": [
    "suma_producto(5, 3)"
   ]
  },
  {
   "cell_type": "markdown",
   "id": "d16e4732",
   "metadata": {},
   "source": [
    "## Programa una función que calcule el área y perímetro de un rectángulo dado los dos lados"
   ]
  },
  {
   "cell_type": "code",
   "execution_count": 74,
   "id": "f121283f",
   "metadata": {},
   "outputs": [],
   "source": [
    "def area_perimetro(lado1=1, lado2=1):\n",
    "    area = lado1 * lado2\n",
    "    perimetro = 2 * (lado1 + lado2)\n",
    "    return [area, perimetro]"
   ]
  },
  {
   "cell_type": "code",
   "execution_count": 75,
   "id": "bdd6c9b7-7b2c-4c7a-b327-6a5aaa468e38",
   "metadata": {},
   "outputs": [
    {
     "data": {
      "text/plain": [
       "[12, 14]"
      ]
     },
     "execution_count": 75,
     "metadata": {},
     "output_type": "execute_result"
    }
   ],
   "source": [
    "area_perimetro(4, 3)"
   ]
  },
  {
   "cell_type": "markdown",
   "id": "dedb1eed",
   "metadata": {},
   "source": [
    "## Programa una función que calcula el área y perímetro de una circunferenica dado el radio. Como salida debe proporcionar un diccionario."
   ]
  },
  {
   "cell_type": "code",
   "execution_count": 76,
   "id": "70262d06",
   "metadata": {},
   "outputs": [
    {
     "data": {
      "text/plain": [
       "3.141592653589793"
      ]
     },
     "execution_count": 76,
     "metadata": {},
     "output_type": "execute_result"
    }
   ],
   "source": [
    "import math\n",
    "\n",
    "math.pi"
   ]
  },
  {
   "cell_type": "code",
   "execution_count": 77,
   "id": "0d87bbfa",
   "metadata": {},
   "outputs": [],
   "source": [
    "def area_perimetro_circu(radio):\n",
    "    area = math.pi * radio ** 2\n",
    "    perimetro = math.pi * radio * 2\n",
    "    return {'area':area, 'perimetro':perimetro}"
   ]
  },
  {
   "cell_type": "code",
   "execution_count": 78,
   "id": "d9d01b98",
   "metadata": {},
   "outputs": [],
   "source": [
    "x = area_perimetro_circu(1)"
   ]
  },
  {
   "cell_type": "code",
   "execution_count": 79,
   "id": "6dbe22ad",
   "metadata": {},
   "outputs": [
    {
     "data": {
      "text/plain": [
       "6.283185307179586"
      ]
     },
     "execution_count": 79,
     "metadata": {},
     "output_type": "execute_result"
    }
   ],
   "source": [
    "x['perimetro']"
   ]
  },
  {
   "cell_type": "markdown",
   "id": "336f25e1",
   "metadata": {},
   "source": [
    "## Programa una función que dado un número proporcione su tabla de multiplicar."
   ]
  },
  {
   "cell_type": "code",
   "execution_count": 83,
   "id": "2678e6f8",
   "metadata": {},
   "outputs": [],
   "source": [
    "def tabla_multi(numero):\n",
    "    for i in range (1, 11):\n",
    "        resultado = numero * i\n",
    "        print(numero, i, resultado)"
   ]
  },
  {
   "cell_type": "code",
   "execution_count": 84,
   "id": "f11a3992-8a8c-4337-bc1e-7e3284fc8f41",
   "metadata": {},
   "outputs": [
    {
     "name": "stdout",
     "output_type": "stream",
     "text": [
      "4 1 4\n",
      "4 2 8\n",
      "4 3 12\n",
      "4 4 16\n",
      "4 5 20\n",
      "4 6 24\n",
      "4 7 28\n",
      "4 8 32\n",
      "4 9 36\n",
      "4 10 40\n"
     ]
    }
   ],
   "source": [
    "tabla_multi(4)"
   ]
  },
  {
   "cell_type": "markdown",
   "id": "fc283a70",
   "metadata": {},
   "source": [
    "## Programa una función que transforme grados Celsius a grados Fahrenheit $$F=\\frac{9}{5}C+32$$"
   ]
  },
  {
   "cell_type": "code",
   "execution_count": 86,
   "id": "92c166b4",
   "metadata": {},
   "outputs": [],
   "source": [
    "def grados(C):\n",
    "    \"\"\"...\"\"\"\n",
    "    return (9/5) * C + 32"
   ]
  },
  {
   "cell_type": "code",
   "execution_count": 87,
   "id": "c3c952cc",
   "metadata": {},
   "outputs": [
    {
     "data": {
      "text/plain": [
       "82.4"
      ]
     },
     "execution_count": 87,
     "metadata": {},
     "output_type": "execute_result"
    }
   ],
   "source": [
    "grados(28)"
   ]
  },
  {
   "cell_type": "markdown",
   "id": "d969f908",
   "metadata": {},
   "source": [
    "## Utilizando la función anterior crea un programa que proporcione una tabla de conversión de 0ºC a 100ºC de 10 en 10."
   ]
  },
  {
   "cell_type": "code",
   "execution_count": 88,
   "id": "8c044d84",
   "metadata": {},
   "outputs": [
    {
     "name": "stdout",
     "output_type": "stream",
     "text": [
      "32.0\n",
      "50.0\n",
      "68.0\n",
      "86.0\n",
      "104.0\n",
      "122.0\n",
      "140.0\n",
      "158.0\n",
      "176.0\n",
      "194.0\n",
      "212.0\n"
     ]
    }
   ],
   "source": [
    "for objeto in range(0, 101, 10):\n",
    "    print(grados(objeto))"
   ]
  },
  {
   "cell_type": "markdown",
   "id": "d7aed536",
   "metadata": {},
   "source": [
    "## Escribe un programa que reciba un número $n$ por parámetro e imprima los primeros $n$ números triangulares, junto con su índice. Los números triangulares se obtienen mediante la suma de los números naturales desde 1 hasta $n$.\n",
    "\n",
    "## Hazlo usando y sin usar la fórmula $\\sum_{i=1}^n i=n(n+1)/2$.\n",
    "¿hay diferencia en el tiempo de ejecución?"
   ]
  },
  {
   "cell_type": "code",
   "execution_count": 90,
   "id": "36fc7ab2",
   "metadata": {},
   "outputs": [],
   "source": [
    "def triangulares(numero):\n",
    "    for i in range (1, numero+1):\n",
    "        resultado = i * (i+1) / 2\n",
    "        print(resultado)"
   ]
  },
  {
   "cell_type": "code",
   "execution_count": 91,
   "id": "49b39a85-9312-4939-b72f-7f03d85d2689",
   "metadata": {},
   "outputs": [
    {
     "name": "stdout",
     "output_type": "stream",
     "text": [
      "1.0\n",
      "3.0\n",
      "6.0\n",
      "10.0\n"
     ]
    }
   ],
   "source": [
    "triangulares(4)"
   ]
  },
  {
   "cell_type": "markdown",
   "id": "d21866f1",
   "metadata": {},
   "source": [
    "## Escribe un programa que imprima todas las fichas de dominó (una por línea) sin repetir."
   ]
  },
  {
   "cell_type": "code",
   "execution_count": 101,
   "id": "ece4a4aa",
   "metadata": {},
   "outputs": [],
   "source": [
    "def domino():\n",
    "    for i in range (7):\n",
    "        for k in range(i, 7):\n",
    "            print(i, k)"
   ]
  },
  {
   "cell_type": "code",
   "execution_count": 102,
   "id": "238c5e55-fada-4922-9eb0-dbe101f2147d",
   "metadata": {},
   "outputs": [
    {
     "name": "stdout",
     "output_type": "stream",
     "text": [
      "0 0\n",
      "0 1\n",
      "0 2\n",
      "0 3\n",
      "0 4\n",
      "0 5\n",
      "0 6\n",
      "1 1\n",
      "1 2\n",
      "1 3\n",
      "1 4\n",
      "1 5\n",
      "1 6\n",
      "2 2\n",
      "2 3\n",
      "2 4\n",
      "2 5\n",
      "2 6\n",
      "3 3\n",
      "3 4\n",
      "3 5\n",
      "3 6\n",
      "4 4\n",
      "4 5\n",
      "4 6\n",
      "5 5\n",
      "5 6\n",
      "6 6\n"
     ]
    }
   ],
   "source": [
    "domino()"
   ]
  },
  {
   "cell_type": "markdown",
   "id": "e4d95645",
   "metadata": {},
   "source": [
    "## Escribe una función que dado un número indique si es par o no y si es primo o no."
   ]
  },
  {
   "cell_type": "code",
   "execution_count": 104,
   "id": "e24b1060",
   "metadata": {},
   "outputs": [],
   "source": [
    "def par_primo(numero):\n",
    "    par = False\n",
    "    primo = False\n",
    "    resultado = 0\n",
    "    contador = 0\n",
    "    if(numero % 2 == 0):\n",
    "        par = True\n",
    "    else:\n",
    "        par = False\n",
    "    \n",
    "    for i in range (1, numero+1):\n",
    "        resultado = numero % i \n",
    "        if(resultado == 0):\n",
    "            contador += 1\n",
    "    if(contador == 2):\n",
    "        primo = True\n",
    "    else:\n",
    "        primo = False\n",
    "    return par, primo"
   ]
  },
  {
   "cell_type": "code",
   "execution_count": 117,
   "id": "4d064884-d6ee-4718-b780-d0fffde5679a",
   "metadata": {},
   "outputs": [
    {
     "data": {
      "text/plain": [
       "(False, True)"
      ]
     },
     "execution_count": 117,
     "metadata": {},
     "output_type": "execute_result"
    }
   ],
   "source": [
    "par_primo(3)"
   ]
  },
  {
   "cell_type": "markdown",
   "id": "ef4c6b71",
   "metadata": {},
   "source": [
    "## Programa una implementación de la función $abs$."
   ]
  },
  {
   "cell_type": "code",
   "execution_count": 107,
   "id": "202ee7ba",
   "metadata": {},
   "outputs": [],
   "source": [
    "def absoluto(n):\n",
    "    if n > 0:\n",
    "        return n\n",
    "    else:\n",
    "        return -1*n"
   ]
  },
  {
   "cell_type": "code",
   "execution_count": 108,
   "id": "88d0e801-9fef-49aa-8602-40695348ede3",
   "metadata": {},
   "outputs": [
    {
     "data": {
      "text/plain": [
       "2"
      ]
     },
     "execution_count": 108,
     "metadata": {},
     "output_type": "execute_result"
    }
   ],
   "source": [
    "absoluto(-2)"
   ]
  },
  {
   "cell_type": "markdown",
   "id": "5c75fa01",
   "metadata": {},
   "source": [
    "## Programa una implementción de la función $signo$."
   ]
  },
  {
   "cell_type": "code",
   "execution_count": 112,
   "id": "0751e9f8",
   "metadata": {},
   "outputs": [],
   "source": [
    "def signo(numero):\n",
    "    if(numero < 0):\n",
    "        return \"Negativo\"\n",
    "    else:\n",
    "        return \"Positivo\""
   ]
  },
  {
   "cell_type": "code",
   "execution_count": 113,
   "id": "7a4df884-45c7-42a0-8a61-4bcbfa2ab08c",
   "metadata": {},
   "outputs": [
    {
     "data": {
      "text/plain": [
       "'Negativo'"
      ]
     },
     "execution_count": 113,
     "metadata": {},
     "output_type": "execute_result"
    }
   ],
   "source": [
    "signo(-3)"
   ]
  },
  {
   "cell_type": "markdown",
   "id": "c15e53ef",
   "metadata": {},
   "source": [
    "## Escribe funciónes que permitan encontrar las soluciones de un polinomio de grado dos dados sus coeficientes $a$, $b$ y $c$.\n",
    "\n",
    "## Que muestre el mínimo o máximo del polinomio."
   ]
  },
  {
   "cell_type": "code",
   "execution_count": 114,
   "id": "17be99a8",
   "metadata": {},
   "outputs": [],
   "source": [
    "def polinomio_segundo_grado(a, b, c):\n",
    "    interior = b**2 - (4 * a * c)\n",
    "    solucion1 = (-b + math.sqrt(interior)) / 2*a\n",
    "    solucion2 = (-b - math.sqrt(interior)) / 2*a\n",
    "    vertice = -b/2*a\n",
    "    return solucion1, solucion2, vertice"
   ]
  },
  {
   "cell_type": "code",
   "execution_count": 115,
   "id": "806f3f44-c29a-4abf-88c3-c15ba5bc9a34",
   "metadata": {},
   "outputs": [
    {
     "data": {
      "text/plain": [
       "(3.0, 2.0, 2.5)"
      ]
     },
     "execution_count": 115,
     "metadata": {},
     "output_type": "execute_result"
    }
   ],
   "source": [
    "polinomio_segundo_grado(1, -5, 6)"
   ]
  },
  {
   "cell_type": "markdown",
   "id": "45bd8725",
   "metadata": {},
   "source": [
    "## Escribe una función que dado un número entero devuelva su descomposición en factores primos."
   ]
  },
  {
   "cell_type": "code",
   "execution_count": 163,
   "id": "77853595",
   "metadata": {},
   "outputs": [],
   "source": [
    "def descomponer(numero):\n",
    "    resultado = []\n",
    "    for i in range(2, numero+1):\n",
    "        while n % i == 0:\n",
    "            resultado.append(i)\n",
    "            numero = numero/i\n",
    "    return resultado"
   ]
  },
  {
   "cell_type": "code",
   "execution_count": null,
   "id": "70bdf012-0d8b-4c6b-b605-b71bf244b9a9",
   "metadata": {},
   "outputs": [],
   "source": [
    "descomponer(60)"
   ]
  },
  {
   "cell_type": "markdown",
   "id": "760932c8",
   "metadata": {},
   "source": [
    "## Programa una función que solicite por pantalla un número y permita al usuario introducirlo para luego imprimirlo por pantalla.\n",
    "\n",
    "## Usa la función `input` de python."
   ]
  },
  {
   "cell_type": "code",
   "execution_count": 118,
   "id": "00d2def5",
   "metadata": {},
   "outputs": [
    {
     "name": "stdin",
     "output_type": "stream",
     "text": [
      " 3\n"
     ]
    }
   ],
   "source": [
    "x = input()"
   ]
  },
  {
   "cell_type": "code",
   "execution_count": 119,
   "id": "16c88ab9",
   "metadata": {},
   "outputs": [
    {
     "name": "stdout",
     "output_type": "stream",
     "text": [
      "Introduzca un valor:\n"
     ]
    },
    {
     "name": "stdin",
     "output_type": "stream",
     "text": [
      " 3\n"
     ]
    },
    {
     "name": "stdout",
     "output_type": "stream",
     "text": [
      "El numero introducido es 3\n"
     ]
    }
   ],
   "source": [
    "print('Introduzca un valor:')\n",
    "x = int(input())\n",
    "print(\"El numero introducido es\",x)"
   ]
  },
  {
   "cell_type": "code",
   "execution_count": 120,
   "id": "1d131227",
   "metadata": {},
   "outputs": [
    {
     "data": {
      "text/plain": [
       "4"
      ]
     },
     "execution_count": 120,
     "metadata": {},
     "output_type": "execute_result"
    }
   ],
   "source": [
    "1+x"
   ]
  },
  {
   "cell_type": "markdown",
   "id": "bca767ff",
   "metadata": {},
   "source": [
    "## Escribe una función que tenga una contraseña inventada, que le pregunte la contraseña inventada y no le permita continuar al usuario hasta que la haya ingresado correctamente."
   ]
  },
  {
   "cell_type": "code",
   "execution_count": 131,
   "id": "bc104f29-3ef0-4ea7-b97a-9a10f5c49e3e",
   "metadata": {},
   "outputs": [],
   "source": [
    "def contrasenia():\n",
    "    acertado = False\n",
    "    contrasenia = \"XDFR45\"\n",
    "    while(acertado == False):\n",
    "        print(\"Introduzca una contraseña\")\n",
    "        nueva_contrasenia = input()\n",
    "        if(nueva_contrasenia == contrasenia):\n",
    "            acertado = True\n",
    "        else:\n",
    "            print(\"Has fallado\")"
   ]
  },
  {
   "cell_type": "code",
   "execution_count": 157,
   "id": "ed543500-89c7-4d28-b9fe-9b1fd733954f",
   "metadata": {},
   "outputs": [
    {
     "name": "stdout",
     "output_type": "stream",
     "text": [
      "Introduzca una contraseña\n"
     ]
    },
    {
     "name": "stdin",
     "output_type": "stream",
     "text": [
      " XDFR45\n"
     ]
    }
   ],
   "source": [
    "contrasenia()"
   ]
  },
  {
   "cell_type": "markdown",
   "id": "26ac9952",
   "metadata": {},
   "source": [
    "## Modificación la función anterior para que solo permita un número determinado de intentos y le indique al usuario cuántos intentos le quedan."
   ]
  },
  {
   "cell_type": "code",
   "execution_count": 136,
   "id": "e93e9b07",
   "metadata": {},
   "outputs": [],
   "source": [
    "def contrasenia_mod():\n",
    "    acertado = False\n",
    "    contrasenia = \"XDFR45\"\n",
    "    fallos = 0\n",
    "    while(fallos < 3):\n",
    "        print(\"Introduzca una contraseña\")\n",
    "        nueva_contrasenia = input()\n",
    "        if(nueva_contrasenia == contrasenia):\n",
    "            print(\"Has acertado\")\n",
    "            fallos = 3\n",
    "        else:\n",
    "            print(\"Has fallado\")\n",
    "            fallos += 1"
   ]
  },
  {
   "cell_type": "code",
   "execution_count": 137,
   "id": "86e56bc6-a491-4787-99ec-b2c6ed7d319a",
   "metadata": {},
   "outputs": [
    {
     "name": "stdout",
     "output_type": "stream",
     "text": [
      "Introduzca una contraseña\n"
     ]
    },
    {
     "name": "stdin",
     "output_type": "stream",
     "text": [
      " XDFR45\n"
     ]
    },
    {
     "name": "stdout",
     "output_type": "stream",
     "text": [
      "Has acertado\n"
     ]
    }
   ],
   "source": [
    "contrasenia_mod()"
   ]
  },
  {
   "cell_type": "markdown",
   "id": "c36d6550",
   "metadata": {},
   "source": [
    "## Programa una función que genere un número aleatorio entero en un rango determinado. Y que le permita al usuario introducir números indicando si son mayores o menores hasta que acierte el número."
   ]
  },
  {
   "cell_type": "code",
   "execution_count": 138,
   "id": "105044e0",
   "metadata": {},
   "outputs": [],
   "source": [
    "from random import randint"
   ]
  },
  {
   "cell_type": "code",
   "execution_count": 139,
   "id": "aae534c1",
   "metadata": {},
   "outputs": [
    {
     "data": {
      "text/plain": [
       "7"
      ]
     },
     "execution_count": 139,
     "metadata": {},
     "output_type": "execute_result"
    }
   ],
   "source": [
    "randint(0, 10)"
   ]
  },
  {
   "cell_type": "code",
   "execution_count": 140,
   "id": "8ff11ade",
   "metadata": {},
   "outputs": [],
   "source": [
    "def acierto(n_min=0, n_max=10):\n",
    "    x = randint(n_min, n_max)\n",
    "    fallo = True\n",
    "    while fallo == True:\n",
    "        print('Introduce un numero:')\n",
    "        numero = int(input())\n",
    "        if numero == x:\n",
    "            print('Has acertado')\n",
    "            fallo = False\n",
    "        elif numero < x:\n",
    "            print('Es mayor que ', numero)\n",
    "        else:\n",
    "            print('Es menor que ', numero)"
   ]
  },
  {
   "cell_type": "code",
   "execution_count": 142,
   "id": "c55fbb77",
   "metadata": {},
   "outputs": [
    {
     "name": "stdout",
     "output_type": "stream",
     "text": [
      "Introduce un numero:\n"
     ]
    },
    {
     "name": "stdin",
     "output_type": "stream",
     "text": [
      " 7\n"
     ]
    },
    {
     "name": "stdout",
     "output_type": "stream",
     "text": [
      "Es menor que  7\n",
      "Introduce un numero:\n"
     ]
    },
    {
     "name": "stdin",
     "output_type": "stream",
     "text": [
      " 5\n"
     ]
    },
    {
     "name": "stdout",
     "output_type": "stream",
     "text": [
      "Es menor que  5\n",
      "Introduce un numero:\n"
     ]
    },
    {
     "name": "stdin",
     "output_type": "stream",
     "text": [
      " 2\n"
     ]
    },
    {
     "name": "stdout",
     "output_type": "stream",
     "text": [
      "Es mayor que  2\n",
      "Introduce un numero:\n"
     ]
    },
    {
     "name": "stdin",
     "output_type": "stream",
     "text": [
      " 3\n"
     ]
    },
    {
     "name": "stdout",
     "output_type": "stream",
     "text": [
      "Has acertado\n"
     ]
    }
   ],
   "source": [
    "acierto(1, 10)"
   ]
  },
  {
   "cell_type": "markdown",
   "id": "d00c2bda",
   "metadata": {},
   "source": [
    "## Programa una función que implemente el algoritmo de Euclides para calcular el máximo común divisor de dos números $n$ y $m$. Dado por los siguientes pasos:\n",
    "1. Se calcula el resto ($r$) de $m/n$.\n",
    "2. Si $r$ es cero entonces $n$ es el MCD de los valores iniciales.\n",
    "3. Si no, se asigna $m \\leftarrow n$, $n \\leftarrow r$ y se vuelve al primer paso.\n"
   ]
  },
  {
   "cell_type": "code",
   "execution_count": 155,
   "id": "44658142",
   "metadata": {},
   "outputs": [],
   "source": [
    "def mcd(m, n):\n",
    "    fini = False\n",
    "    while fini == False:\n",
    "       r = m % n\n",
    "       if(r == 0):\n",
    "           fin = True\n",
    "           return n\n",
    "       else:\n",
    "           m = n\n",
    "           n = r"
   ]
  },
  {
   "cell_type": "code",
   "execution_count": 156,
   "id": "ff695f5b-837f-413e-99ab-9928253fd347",
   "metadata": {},
   "outputs": [
    {
     "data": {
      "text/plain": [
       "4"
      ]
     },
     "execution_count": 156,
     "metadata": {},
     "output_type": "execute_result"
    }
   ],
   "source": [
    "mcd(16, 4)"
   ]
  },
  {
   "cell_type": "code",
   "execution_count": 166,
   "id": "8821fa8e-bd23-471a-9c38-ac404be51bc9",
   "metadata": {},
   "outputs": [
    {
     "name": "stdout",
     "output_type": "stream",
     "text": [
      "On branch main\n",
      "Your branch is up to date with 'origin/main'.\n",
      "\n",
      "Changes not staged for commit:\n",
      "  (use \"git add <file>...\" to update what will be committed)\n",
      "  (use \"git restore <file>...\" to discard changes in working directory)\n",
      "\tmodified:   Python_crash_course_session_1.ipynb\n",
      "\tmodified:   Python_crash_course_session_2.ipynb\n",
      "\n",
      "no changes added to commit (use \"git add\" and/or \"git commit -a\")\n"
     ]
    }
   ],
   "source": [
    "!git status"
   ]
  }
 ],
 "metadata": {
  "kernelspec": {
   "display_name": "Python 3 (ipykernel)",
   "language": "python",
   "name": "python3"
  },
  "language_info": {
   "codemirror_mode": {
    "name": "ipython",
    "version": 3
   },
   "file_extension": ".py",
   "mimetype": "text/x-python",
   "name": "python",
   "nbconvert_exporter": "python",
   "pygments_lexer": "ipython3",
   "version": "3.11.5"
  }
 },
 "nbformat": 4,
 "nbformat_minor": 5
}
