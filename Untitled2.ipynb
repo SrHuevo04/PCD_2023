{
 "cells": [
  {
   "cell_type": "code",
   "execution_count": 1,
   "id": "eeb0f6b7-ed35-45ab-855f-a0186b7728f2",
   "metadata": {},
   "outputs": [
    {
     "name": "stderr",
     "output_type": "stream",
     "text": [
      "Cloning into 'PCD2023'...\n"
     ]
    }
   ],
   "source": [
    "!git clone https://github.com/sukuzhanay/PCD2023.git"
   ]
  },
  {
   "cell_type": "code",
   "execution_count": null,
   "id": "6f53bbe1-d8ab-4d1e-a163-f07915135c3b",
   "metadata": {},
   "outputs": [],
   "source": []
  }
 ],
 "metadata": {
  "kernelspec": {
   "display_name": "Python 3 (ipykernel)",
   "language": "python",
   "name": "python3"
  },
  "language_info": {
   "codemirror_mode": {
    "name": "ipython",
    "version": 3
   },
   "file_extension": ".py",
   "mimetype": "text/x-python",
   "name": "python",
   "nbconvert_exporter": "python",
   "pygments_lexer": "ipython3",
   "version": "3.11.5"
  }
 },
 "nbformat": 4,
 "nbformat_minor": 5
}
