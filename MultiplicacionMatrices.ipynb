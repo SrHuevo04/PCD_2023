{
 "cells": [
  {
   "cell_type": "code",
   "execution_count": 2,
   "id": "37163a7a-4d92-417b-a794-824573edeb45",
   "metadata": {},
   "outputs": [],
   "source": [
    "def sec_mult(A, B): # f() que calcula la mult. en secuencial, como toda la vida se ha hecho\n",
    "    C = [[0] * n_col_B for i in range(n_fil_A)] # Crear y poblar la matrix  C = A*B\n",
    "    for i in range(n_fil_A): # Hago la multiplicacion de AxB = C, i para iterar sobre las filas de A\n",
    "        for j in range(n_col_B): # j para iterar sobre las columnas de B\n",
    "            for k in range(n_col_A): # k para iterar en C\n",
    "                C[i][j] += A[i][k] * B[k][j] # Aqui se hace la multiplicación y guardo en C.\n",
    "    return C"
   ]
  },
  {
   "cell_type": "code",
   "execution_count": 3,
   "id": "a1253f29-5313-4697-ba84-ea635678615b",
   "metadata": {},
   "outputs": [],
   "source": [
    "def par_mult(A, B): # f() que prepara el reparto de trabajo para la mult. en paralelo\n",
    "    n_cores = mp.cpu_count() # Obtengo los cores de mi pc\n",
    "    size_col = math.ceil(n_col_B/n_cores) # Columnas  a procesar x c/cpre, ver Excel adjunto\n",
    "    size_fil = math.ceil(n_fil_A/n_cores) # Filas a procesar x c/cpre, ver Excel adjunto\n",
    "    MC = mp.RawArray('i', n_fil_A * n_col_B) # Array MC de memoria compartida donde se almacenaran los resultados, ver excel adjunto\n",
    "    cores = [] # Array para guardar los cores y su trabajo\n",
    "    for core in range(n_cores):# Asigno a cada core el trabajo que le toca, ver excel adjunto\n",
    "        i_MC = min(core * size_fil, n_fil_A) # Calculo i para marcar inicio del trabajo del core en relacion a las filas\n",
    "        f_MC = min((core + 1) * size_fil, n_fil_A) # Calculo f para marcar fin del trabajo del core, ver excel\n",
    "        cores.append(mp.Process(target=par_core, args=(A, B, MC, i_MC, f_MC)))# Añado al Array los cores y su trabajo\n",
    "    for core in cores:\n",
    "        core.start()# Arranco y ejecuto el trabajo para c/ uno de los cores que tenga mi equipo, ver excel\n",
    "    for core in cores:\n",
    "        core.join()# Bloqueo cualquier llamada hasta que terminen su trabajo todos los cores\n",
    "    C_2D = [[0] * n_col_B for i in range(n_fil_A)] # Convierto el array unidimensional MC en una matrix 2D (C_2D)\n",
    "    for i in range(n_fil_A):# i para iterar sobre las filas de A\n",
    "        for j in range(n_col_B):# j para iterar sobre las columnas de B\n",
    "            C_2D[i][j] = MC[i*n_col_B + j] # Guardo el C_2D los datos del array MC\n",
    "    return C_2D"
   ]
  },
  {
   "cell_type": "code",
   "execution_count": null,
   "id": "c4e02852-3c46-49e3-8784-22c75e29d85f",
   "metadata": {},
   "outputs": [],
   "source": [
    "def par_core(A, B, MC, i_MC, f_MC): # La tarea que hacen todos los cores\n",
    "    for i in range(i_MC, f_MC): # Size representado en colores en el excel que itera sobre las filas en A\n",
    "        for j in range(len(B[0])): # Size representado en colores en el excel que itera sobre las columnas en B\n",
    "            for k in range(len(A[0])): # n_fil_B o lo que es l mismo el n_col_A\n",
    "                MC[i*len(B[0]) + j] += A[i][k] * B[k][j]# Guarda resultado en MC[] de cada core"
   ]
  },
  {
   "cell_type": "code",
   "execution_count": null,
   "id": "a271488f-8e46-4629-bffb-619b292c5dac",
   "metadata": {},
   "outputs": [],
   "source": [
    "if __name__ == '__main__':\n",
    "    A = [[random.randint(0,215) for i in range(6)] for j in range(2227)] # Genero A[21535220][6]con num. aleatorios del 0 al 215, ver excel\n",
    "    B = [[random.randint(0,215) for i in range(2227)] for j in range(6)] # Genero B[6][21535220]con num. aleatorios del 0 al 215, ver excel\n",
    "    n_fil_A = len(A) # Obtengo num de filas de A\n",
    "    n_col_A = len(A[0]) # Obtengo num de colunmas de A\n",
    "    n_fil_B = len(B) # Obtengo num de filas de B\n",
    "    n_col_B = len(B[0]) # # Obtengo num de filas de B\n",
    "    if n_col_A != n_fil_B: raise Exception('Dimensiones no validas') # Compruebo que se puedan multiplicar A y B\n",
    "    inicioS = time.time()\n",
    "    sec_mult(A, B) # Ejecuto multiplicacion secuencial\n",
    "    finS = time.time()\n",
    "    inicioP = time.time()\n",
    "    par_mult(A, B) # Ejecuto multiplicacion paralela\n",
    "    finP = time.time()\n",
    "    print('\\n\\nMatriz  A y B se han multiplicado con exito en SECUENCIAL ha tardado ', finS-inicioS, ' y en PARALELO ', finP-inicioP)\n"
   ]
  },
  {
   "cell_type": "code",
   "execution_count": 4,
   "id": "97a029e8-f409-4113-a92e-06498c99b603",
   "metadata": {},
   "outputs": [],
   "source": [
    "from IPython import display as dp"
   ]
  },
  {
   "cell_type": "code",
   "execution_count": 6,
   "id": "cfca7eb9-4b0e-41b0-b4e6-e4038f641fef",
   "metadata": {},
   "outputs": [
    {
     "data": {
      "image/png": "[encoded data removed]",
      "text/plain": [
       "<IPython.core.display.Image object>"
      ]
     },
     "execution_count": 6,
     "metadata": {},
     "output_type": "execute_result"
    }
   ],
   "source": [
    "dp.Image(\"MultiplicacionMatrices.png\")"
   ]
  },
  {
   "cell_type": "code",
   "execution_count": 7,
   "id": "0390524b-a61d-4cee-b746-8c176f37b092",
   "metadata": {},
   "outputs": [
    {
     "name": "stdout",
     "output_type": "stream",
     "text": [
      "On branch main\n",
      "Your branch is up to date with 'origin/main'.\n",
      "\n",
      "Changes not staged for commit:\n",
      "  (use \"git add <file>...\" to update what will be committed)\n",
      "  (use \"git restore <file>...\" to discard changes in working directory)\n",
      "  (commit or discard the untracked or modified content in submodules)\n",
      "\tmodified:   PCD2023 (modified content)\n",
      "\tmodified:   Untitled.ipynb\n",
      "\n",
      "Untracked files:\n",
      "  (use \"git add <file>...\" to include in what will be committed)\n",
      "\t.ipynb_checkpoints/22277303_26102023-checkpoint.ipynb\n",
      "\t.ipynb_checkpoints/MultiplicacionMatrices-checkpoint.ipynb\n",
      "\t.ipynb_checkpoints/README-checkpoint.md\n",
      "\t22277303_26102023.ipynb\n",
      "\tMultiplicacionMatrices.ipynb\n",
      "\tMultiplicacionMatrices.png\n",
      "\n",
      "no changes added to commit (use \"git add\" and/or \"git commit -a\")\n"
     ]
    }
   ],
   "source": [
    "!git status"
   ]
  },
  {
   "cell_type": "code",
   "execution_count": 8,
   "id": "2f152422-beb2-45b6-85c5-cc0b4957ecbd",
   "metadata": {},
   "outputs": [
    {
     "name": "stderr",
     "output_type": "stream",
     "text": [
      "warning: in the working copy of 'MultiplicacionMatrices.ipynb', LF will be replaced by CRLF the next time Git touches it\n"
     ]
    }
   ],
   "source": [
    "!git add MultiplicacionMatrices.ipynb"
   ]
  },
  {
   "cell_type": "code",
   "execution_count": 9,
   "id": "210f1533-5453-4fff-8752-2c8d4c6696c8",
   "metadata": {},
   "outputs": [],
   "source": [
    "!git add MultiplicacionMatrices.png"
   ]
  },
  {
   "cell_type": "code",
   "execution_count": 10,
   "id": "417c6e0d-992b-4560-a8a7-2d82dff2b3b6",
   "metadata": {},
   "outputs": [
    {
     "name": "stdout",
     "output_type": "stream",
     "text": [
      "On branch main\n",
      "Your branch is up to date with 'origin/main'.\n",
      "\n",
      "Changes to be committed:\n",
      "  (use \"git restore --staged <file>...\" to unstage)\n",
      "\tnew file:   MultiplicacionMatrices.ipynb\n",
      "\tnew file:   MultiplicacionMatrices.png\n",
      "\n",
      "Changes not staged for commit:\n",
      "  (use \"git add <file>...\" to update what will be committed)\n",
      "  (use \"git restore <file>...\" to discard changes in working directory)\n",
      "  (commit or discard the untracked or modified content in submodules)\n",
      "\tmodified:   PCD2023 (modified content)\n",
      "\tmodified:   Untitled.ipynb\n",
      "\n",
      "Untracked files:\n",
      "  (use \"git add <file>...\" to include in what will be committed)\n",
      "\t.ipynb_checkpoints/22277303_26102023-checkpoint.ipynb\n",
      "\t.ipynb_checkpoints/MultiplicacionMatrices-checkpoint.ipynb\n",
      "\t.ipynb_checkpoints/README-checkpoint.md\n",
      "\t22277303_26102023.ipynb\n",
      "\n"
     ]
    }
   ],
   "source": [
    "!git status"
   ]
  },
  {
   "cell_type": "code",
   "execution_count": 11,
   "id": "e8ed72b1-6a9d-4f58-a66e-8c4a8d8eb477",
   "metadata": {},
   "outputs": [
    {
     "name": "stderr",
     "output_type": "stream",
     "text": [
      "git: 'add.' is not a git command. See 'git --help'.\n",
      "\n",
      "The most similar command is\n",
      "\tadd\n"
     ]
    }
   ],
   "source": [
    "!git add."
   ]
  },
  {
   "cell_type": "code",
   "execution_count": 12,
   "id": "d58423f2-9fe7-4046-9c8a-d9057aafcf8b",
   "metadata": {},
   "outputs": [
    {
     "name": "stderr",
     "output_type": "stream",
     "text": [
      "warning: in the working copy of 'MultiplicacionMatrices.ipynb', LF will be replaced by CRLF the next time Git touches it\n",
      "warning: in the working copy of 'Untitled.ipynb', LF will be replaced by CRLF the next time Git touches it\n",
      "warning: in the working copy of '.ipynb_checkpoints/22277303_26102023-checkpoint.ipynb', LF will be replaced by CRLF the next time Git touches it\n",
      "warning: in the working copy of '.ipynb_checkpoints/MultiplicacionMatrices-checkpoint.ipynb', LF will be replaced by CRLF the next time Git touches it\n",
      "warning: in the working copy of '22277303_26102023.ipynb', LF will be replaced by CRLF the next time Git touches it\n"
     ]
    }
   ],
   "source": [
    "!git add ."
   ]
  },
  {
   "cell_type": "code",
   "execution_count": 13,
   "id": "63a08a0e-a0f4-40a5-993e-cf3e808c7ec2",
   "metadata": {},
   "outputs": [
    {
     "name": "stdout",
     "output_type": "stream",
     "text": [
      "[main b1b9e03] AÃ‘ADIDA CAPTURA DE PANTALLA DE CUANTO HA TARDADO LA MULTIPLICACIÃ“N DE MATRICES Y NOTEBOOKS VARIADOS\n",
      " 7 files changed, 957 insertions(+), 165 deletions(-)\n",
      " create mode 100644 .ipynb_checkpoints/22277303_26102023-checkpoint.ipynb\n",
      " create mode 100644 .ipynb_checkpoints/MultiplicacionMatrices-checkpoint.ipynb\n",
      " create mode 100644 .ipynb_checkpoints/README-checkpoint.md\n",
      " create mode 100644 22277303_26102023.ipynb\n",
      " create mode 100644 MultiplicacionMatrices.ipynb\n",
      " create mode 100644 MultiplicacionMatrices.png\n"
     ]
    }
   ],
   "source": [
    "!git commit -m \"AÑADIDA CAPTURA DE PANTALLA DE CUANTO HA TARDADO LA MULTIPLICACIÓN DE MATRICES Y NOTEBOOKS VARIADOS\""
   ]
  },
  {
   "cell_type": "code",
   "execution_count": 14,
   "id": "2c316d43-2df3-4c0b-8f0c-c938fd3c7376",
   "metadata": {},
   "outputs": [
    {
     "name": "stderr",
     "output_type": "stream",
     "text": [
      "To https://github.com/SrHuevo04/PCD_2023.git\n",
      "   09fb9b7..b1b9e03  main -> main\n"
     ]
    }
   ],
   "source": [
    "!git push "
   ]
  },
  {
   "cell_type": "code",
   "execution_count": null,
   "id": "ba9a0f0d-963f-434a-b25b-e94bdc1b623e",
   "metadata": {},
   "outputs": [],
   "source": []
  }
 ],
 "metadata": {
  "kernelspec": {
   "display_name": "Python 3 (ipykernel)",
   "language": "python",
   "name": "python3"
  },
  "language_info": {
   "codemirror_mode": {
    "name": "ipython",
    "version": 3
   },
   "file_extension": ".py",
   "mimetype": "text/x-python",
   "name": "python",
   "nbconvert_exporter": "python",
   "pygments_lexer": "ipython3",
   "version": "3.11.5"
  }
 },
 "nbformat": 4,
 "nbformat_minor": 5
}
