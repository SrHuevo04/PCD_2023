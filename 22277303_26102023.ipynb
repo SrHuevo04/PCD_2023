{
 "cells": [
  {
   "cell_type": "markdown",
   "id": "d160d0da-5328-4fa8-a595-b5979bc7f22d",
   "metadata": {},
   "source": [
    "### Matriz A que tenga 300 X 300"
   ]
  },
  {
   "cell_type": "code",
   "execution_count": 29,
   "id": "6ca33b21-e126-4b61-b9c7-1e950f2ff1e1",
   "metadata": {},
   "outputs": [],
   "source": [
    "filas = 300\n",
    "columnas = 300"
   ]
  },
  {
   "cell_type": "code",
   "execution_count": 30,
   "id": "eb72cece-3c7a-4bb5-aa0f-98e2cb5ecace",
   "metadata": {},
   "outputs": [],
   "source": [
    "matriz = []"
   ]
  },
  {
   "cell_type": "code",
   "execution_count": 10,
   "id": "35793da1-a9c2-42e4-98f8-88f98aa5cd04",
   "metadata": {},
   "outputs": [],
   "source": [
    "import random"
   ]
  },
  {
   "cell_type": "code",
   "execution_count": 32,
   "id": "041b7326-9508-481b-8e96-8240662e20e5",
   "metadata": {},
   "outputs": [],
   "source": [
    "for i in range(300):\n",
    "    for j in range(300):\n",
    "        matriz = [i, j]"
   ]
  },
  {
   "cell_type": "code",
   "execution_count": 33,
   "id": "ea3dea70-fd75-4d59-b1ac-9d55802bad6f",
   "metadata": {},
   "outputs": [
    {
     "data": {
      "text/plain": [
       "[299, 299]"
      ]
     },
     "execution_count": 33,
     "metadata": {},
     "output_type": "execute_result"
    }
   ],
   "source": [
    "matriz"
   ]
  },
  {
   "cell_type": "code",
   "execution_count": 51,
   "id": "7f991d17-4e84-4d53-9b1b-122cbe069f6b",
   "metadata": {},
   "outputs": [],
   "source": [
    "matriz = [[random.randint(0, 222) for i in range(fil_A)] for j in range(col_A)]"
   ]
  },
  {
   "cell_type": "code",
   "execution_count": 52,
   "id": "9e4ffd04-0364-4e1d-93aa-4deeb5dfe2ad",
   "metadata": {},
   "outputs": [],
   "source": [
    "matriz_B = [[random.randint(0,222) for i in range(fil_B)] for j in range(col_B)]"
   ]
  },
  {
   "cell_type": "code",
   "execution_count": 36,
   "id": "036a30ba-56cb-43b6-8371-2fd429aebb42",
   "metadata": {},
   "outputs": [
    {
     "data": {
      "text/plain": [
       "300"
      ]
     },
     "execution_count": 36,
     "metadata": {},
     "output_type": "execute_result"
    }
   ],
   "source": [
    "len(matriz_B[0])\n",
    "len(matriz_B)"
   ]
  },
  {
   "cell_type": "code",
   "execution_count": 53,
   "id": "a7379e6a-e79e-474b-bd93-a88c684ae469",
   "metadata": {},
   "outputs": [
    {
     "name": "stdout",
     "output_type": "stream",
     "text": [
      "Las matrices se pueden multiplicar\n"
     ]
    }
   ],
   "source": [
    "if(len(matriz[0]) == len(matriz_B)):\n",
    "    print(\"Las matrices se pueden multiplicar\")\n",
    "else:\n",
    "    print(\"Las matrices no se pueden multiplicar\")"
   ]
  },
  {
   "cell_type": "code",
   "execution_count": 44,
   "id": "c5a61f34-34b5-432f-89f8-cb63320d6ae0",
   "metadata": {},
   "outputs": [
    {
     "name": "stdin",
     "output_type": "stream",
     "text": [
      "Ingresa las filas de A 300\n"
     ]
    }
   ],
   "source": [
    "fil_A = int(input(\"Ingresa las filas de A\"))"
   ]
  },
  {
   "cell_type": "code",
   "execution_count": 45,
   "id": "b5322786-da7a-49a4-9fc9-3f8628f5ff15",
   "metadata": {},
   "outputs": [
    {
     "name": "stdin",
     "output_type": "stream",
     "text": [
      "Ingresa las columnas de A 300\n"
     ]
    }
   ],
   "source": [
    "col_A = int(input(\"Ingresa las columnas de A\"))"
   ]
  },
  {
   "cell_type": "code",
   "execution_count": 46,
   "id": "567d7dab-7a6c-4e96-8f26-2a80bca9a103",
   "metadata": {},
   "outputs": [
    {
     "name": "stdin",
     "output_type": "stream",
     "text": [
      "Ingrese las filas de B 300\n"
     ]
    }
   ],
   "source": [
    "fil_B = int(input(\"Ingrese las filas de B\"))"
   ]
  },
  {
   "cell_type": "code",
   "execution_count": 47,
   "id": "007e10da-5961-4cb0-ab31-7b4f17996236",
   "metadata": {},
   "outputs": [
    {
     "name": "stdin",
     "output_type": "stream",
     "text": [
      "Ingrese las columnas de B 300\n"
     ]
    }
   ],
   "source": [
    "col_B = int(input(\"Ingrese las columnas de B\"))"
   ]
  },
  {
   "cell_type": "code",
   "execution_count": 48,
   "id": "2bcd38ee-f888-445b-94cf-18209da0356c",
   "metadata": {},
   "outputs": [
    {
     "name": "stdout",
     "output_type": "stream",
     "text": [
      "Las dimensiones introducidas son  300 ,  300\n"
     ]
    }
   ],
   "source": [
    "print(\"Las dimensiones introducidas son \", col_A, \", \", fil_A)"
   ]
  },
  {
   "cell_type": "code",
   "execution_count": 49,
   "id": "9b6add48-d0f9-40b6-a045-39f04ab3c5dd",
   "metadata": {},
   "outputs": [
    {
     "name": "stdout",
     "output_type": "stream",
     "text": [
      "Las dimensiones introducidas son  300 ,  300\n"
     ]
    }
   ],
   "source": [
    "print(\"Las dimensiones introducidas son \", col_B, \", \", fil_B)"
   ]
  },
  {
   "cell_type": "code",
   "execution_count": 5,
   "id": "03b83478-34f0-40f1-a423-894935888c3a",
   "metadata": {},
   "outputs": [],
   "source": [
    "def multiplicarMatrices(A, B):\n",
    "    if(len(matriz[0]) == len(matriz_B)):\n",
    "        print(\"Las matrices se pueden multiplicar\")\n",
    "    else:\n",
    "        print(\"Las matrices no se pueden multiplicar\")"
   ]
  },
  {
   "cell_type": "code",
   "execution_count": 58,
   "id": "50a5d8bb-938f-4556-9298-67ae64300040",
   "metadata": {},
   "outputs": [
    {
     "name": "stdout",
     "output_type": "stream",
     "text": [
      "Las matrices se pueden multiplicar\n"
     ]
    }
   ],
   "source": [
    "multiplicarMatrices(matriz, matriz_B)"
   ]
  },
  {
   "cell_type": "code",
   "execution_count": 59,
   "id": "3138587e-ebe4-4d77-88d1-72d01ac0f442",
   "metadata": {},
   "outputs": [
    {
     "name": "stdout",
     "output_type": "stream",
     "text": [
      "On branch main\n",
      "Your branch is up to date with 'origin/main'.\n",
      "\n",
      "Changes not staged for commit:\n",
      "  (use \"git add <file>...\" to update what will be committed)\n",
      "  (use \"git restore <file>...\" to discard changes in working directory)\n",
      "  (commit or discard the untracked or modified content in submodules)\n",
      "\tmodified:   PCD2023 (modified content)\n",
      "\tmodified:   Python_crash_course_session_2.ipynb\n",
      "\tmodified:   Untitled.ipynb\n",
      "\n",
      "no changes added to commit (use \"git add\" and/or \"git commit -a\")\n"
     ]
    }
   ],
   "source": [
    "!git status"
   ]
  },
  {
   "cell_type": "code",
   "execution_count": 61,
   "id": "357d81a4-f25e-4855-a979-1017e9e4986e",
   "metadata": {},
   "outputs": [
    {
     "name": "stderr",
     "output_type": "stream",
     "text": [
      "warning: in the working copy of 'Python_crash_course_session_2.ipynb', LF will be replaced by CRLF the next time Git touches it\n",
      "warning: in the working copy of 'Untitled.ipynb', LF will be replaced by CRLF the next time Git touches it\n"
     ]
    }
   ],
   "source": [
    "!git add ."
   ]
  },
  {
   "cell_type": "code",
   "execution_count": 62,
   "id": "6d9193d2-2f16-4c51-9f87-dcc21a2af53d",
   "metadata": {},
   "outputs": [
    {
     "name": "stdout",
     "output_type": "stream",
     "text": [
      "[main 09fb9b7] Commit dÃ­a 26/10/2023\n",
      " 2 files changed, 351 insertions(+), 15 deletions(-)\n"
     ]
    }
   ],
   "source": [
    "!git commit -m \"Commit día 26/10/2023\""
   ]
  },
  {
   "cell_type": "code",
   "execution_count": 63,
   "id": "595edacf-0440-409e-92a6-d5f6cfd23d0f",
   "metadata": {},
   "outputs": [
    {
     "name": "stderr",
     "output_type": "stream",
     "text": [
      "To https://github.com/SrHuevo04/PCD_2023.git\n",
      "   8e8740e..09fb9b7  main -> main\n"
     ]
    }
   ],
   "source": [
    "!git push "
   ]
  },
  {
   "cell_type": "code",
   "execution_count": 1,
   "id": "59854c59-2cb6-4c5f-a9fb-28fe92daaef5",
   "metadata": {},
   "outputs": [],
   "source": [
    "matriz =  6 * 222"
   ]
  },
  {
   "cell_type": "code",
   "execution_count": 2,
   "id": "3b16587e-b672-4687-923e-d7c8d4e1fc67",
   "metadata": {},
   "outputs": [],
   "source": [
    "matriz_B = 222 * 6"
   ]
  },
  {
   "cell_type": "code",
   "execution_count": 3,
   "id": "526aae04-372e-4f3f-929a-81fecfc46162",
   "metadata": {},
   "outputs": [],
   "source": [
    "matriz = 6 * 2227"
   ]
  },
  {
   "cell_type": "code",
   "execution_count": 4,
   "id": "76340a0a-0d45-4f5a-9c40-646a778fa33e",
   "metadata": {},
   "outputs": [],
   "source": [
    "matriz_B = 2227 * 6"
   ]
  },
  {
   "cell_type": "markdown",
   "id": "3d343a45-5505-4e70-9981-dc3de1e27c03",
   "metadata": {},
   "source": [
    "### Multiplicación secuencial con un solo core\n"
   ]
  },
  {
   "cell_type": "code",
   "execution_count": 32,
   "id": "3b1876af-eba0-40d7-b463-97956ffdbdaf",
   "metadata": {},
   "outputs": [],
   "source": [
    "def seq_mult(A, B):\n",
    "    C = [[0] * n_col_B for i in range(n_fil_A)]\n",
    "    for i in range(n_fil_A):\n",
    "        for j in range(n_col_B):\n",
    "            for k in range(n_col_A):\n",
    "                C[i][j] += A[i][k] * B[k][j]\n",
    "    print(C)"
   ]
  },
  {
   "cell_type": "code",
   "execution_count": 33,
   "id": "f6c6eb0f-1527-4a26-9f48-1778b9d1d5ff",
   "metadata": {},
   "outputs": [
    {
     "name": "stdout",
     "output_type": "stream",
     "text": [
      "[[24312340750865053, 25378862973133127, 23843343451233884, 32286024685836676, 26355394452645544, 22047571323889306, 24776577038920222, 28027797121852824, 24980168924964754, 35569459256303087, 24407619263409501, 25725912071030951, 32022294730747162, 20519943560939579, 21874866542814010, 23184038205992218], [19944879045265395, 26079365980584118, 20520436601346950, 30586446771699143, 24406898982659691, 22138117608270952, 20362071961774830, 23558693040339914, 20408438197030765, 33228546643038225, 23718345358180445, 21366293128920209, 34156373133398080, 22913126863479520, 19693900103614113, 23512310142292855], [15673670722987297, 20640217440924607, 23444572459157060, 22069715984606203, 17716659755317547, 19636457098841053, 24376390635743097, 17830454736920954, 21070128912500018, 27158469345710904, 20168169910017980, 23468840543543194, 23258333224653391, 14773626295788833, 15989237854261373, 20468007316432972], [25713791100225937, 27481846462669149, 26895680881684269, 31450486470386022, 27108329940776817, 23874600708660963, 24922237625489974, 25523764365865200, 28152316696049429, 34842153152942983, 25044474295372118, 27498216941370283, 31107007321626550, 19303122301448366, 22014428685751059, 23273904756475980], [17351975079716489, 21311789990026409, 18974414027085562, 21972998523612640, 24943309927982014, 22124961003531292, 20028980518436630, 20309855968662758, 21667854490553982, 26024408213686600, 19656842174065271, 20732117072965905, 23381134137542097, 14310656536334374, 16336506237772701, 19279599955621834], [19588522033735125, 23079712681181229, 18528928249618347, 26207446153461480, 21312844999962517, 24188668950337415, 17878170036741410, 15818244873690672, 21321781334992153, 23162143726526628, 16060854659989298, 22259308987145161, 22994216291006759, 11230542998977679, 16109433799768024, 16543656851519404], [26906535235638369, 32559389775438198, 22446039733145318, 25458999049918836, 32386499069844278, 31306882942007038, 24640959493181809, 24407940356169340, 26238891432912916, 34224474741811564, 22602514477241528, 26682755052286867, 28707297336742610, 22943532355795130, 21637803123267397, 21152033555905570], [24801089666905369, 30687320392997038, 24087984539134807, 26415224885202976, 31617537298396135, 29994413412782074, 27488346442018243, 26413074677960238, 26432938502222882, 35944709487348745, 24483602998441497, 27581338164341060, 29962565273718930, 23076109223263378, 21964646825174198, 23635235381488021], [26488379098261030, 30116800822179078, 20825574326407657, 28486665580131462, 27345070656285555, 25876131196921860, 23123195523554510, 23322349595866953, 23998625324097860, 28455490401036962, 23360699789518586, 24081404188524928, 30400371154665615, 16511430018884397, 16835781810853527, 20887808487677555], [14722254054089005, 14671021355880158, 17407413812268066, 15187155680788480, 15736123232863338, 10918003683852400, 18232999930835315, 16565348904520681, 17840716245446048, 17437400000644543, 18127023209956143, 15874223923817602, 17115536507894947, 6778433506623057, 9087220602332331, 15248336108172734], [15541259833517041, 24196049583464798, 22448136033782917, 25749327303897153, 23285621672583724, 24099293040279990, 24224755044404296, 19426987492664768, 22201442735212569, 26410702036470174, 24225051752525866, 22802009371130106, 29441933746078320, 14067889801749078, 14806134278476558, 24756362355664424], [26622269125847631, 31522767719087950, 28493862643800478, 31295332608837209, 30171757055904105, 29257918978995969, 31688521459139078, 28145436661005912, 29320989165805027, 37010969042585489, 27960551325704181, 30945775248621231, 33332244504545666, 20731906819501271, 21927594153164885, 26706944754000506], [22216936812369495, 28748439213796938, 24417602331817615, 31119767875156020, 27220442526920079, 28642545084290770, 23672580783246587, 21568469501673663, 25987342688870258, 32131044492512880, 23202833271909852, 26792161175098801, 31330524939852431, 18454723806787639, 20668425523207890, 23652797862234831], [25617391968970747, 32305079981282741, 19253605371312659, 28027282113509509, 27838250709538068, 27107551784229703, 19382077868119451, 22357069207555202, 21146761468082920, 33586293636436922, 21929159069230657, 22214056744863729, 32788686585443594, 26033229359581852, 20538152666948807, 20455776796690513], [15248794588387534, 20599996971643221, 21214066812085999, 22758389912329577, 15152753331200090, 16686380782637746, 21110329013156312, 15924867289454177, 18440732019876851, 23789957853225870, 20458769892922816, 20116698791531894, 25215095424390407, 13445912025141636, 13033063542326288, 19940023049965940], [24450608180288565, 31138446188537796, 22471495653860792, 26552668956232113, 25754689609502595, 26589303937931017, 21155815624420222, 19316876922112010, 23672468530968671, 29950060070617443, 22549907974710579, 23844697850083177, 30175418603741344, 20346464555270739, 18275940749363111, 20869396078244668]]\n"
     ]
    }
   ],
   "source": [
    "seq_mult(A, B)"
   ]
  },
  {
   "cell_type": "code",
   "execution_count": null,
   "id": "47274bb7-1cf0-484d-adb7-1316671cce57",
   "metadata": {},
   "outputs": [],
   "source": []
  },
  {
   "cell_type": "code",
   "execution_count": 21,
   "id": "344948ca-8b61-4f40-a7db-918ed53abc4a",
   "metadata": {},
   "outputs": [],
   "source": [
    "A = [[random.randint(1, 99999999) for j in range(8)] for i in range(16)]"
   ]
  },
  {
   "cell_type": "code",
   "execution_count": 23,
   "id": "496a2c01-b126-417f-8be7-7149a90b96fe",
   "metadata": {},
   "outputs": [],
   "source": [
    "B = [[random.randint(1, 99999999) for j in range(16)] for i in range(8)]"
   ]
  },
  {
   "cell_type": "code",
   "execution_count": 26,
   "id": "4fe8342e-0e94-4c39-a33f-61667664eb35",
   "metadata": {},
   "outputs": [],
   "source": [
    "n_col_B = len(B[0])"
   ]
  },
  {
   "cell_type": "code",
   "execution_count": 27,
   "id": "37d59589-287c-4aa7-b9da-1f7c1c57fe7f",
   "metadata": {},
   "outputs": [],
   "source": [
    "n_col_A = len(A[0])"
   ]
  },
  {
   "cell_type": "code",
   "execution_count": 28,
   "id": "9dbf0566-2b11-4ba2-81da-ca51110f02f1",
   "metadata": {},
   "outputs": [],
   "source": [
    "n_fil_A = len(A)"
   ]
  },
  {
   "cell_type": "markdown",
   "id": "ff953c8f-ef40-407c-997e-381a76f829e6",
   "metadata": {},
   "source": [
    "### Multiplicación paralela con todos los cores"
   ]
  },
  {
   "cell_type": "code",
   "execution_count": 34,
   "id": "c51b05e6-a39a-4d8f-a268-417a7b4a3cb6",
   "metadata": {},
   "outputs": [],
   "source": [
    "import multiprocessing as mp"
   ]
  },
  {
   "cell_type": "code",
   "execution_count": 3,
   "id": "409a9c88-b6d2-4b11-a40c-7de2b26e003d",
   "metadata": {},
   "outputs": [],
   "source": [
    "import math"
   ]
  },
  {
   "cell_type": "code",
   "execution_count": 35,
   "id": "c1262826-ce71-4376-98f1-90dcd48c6025",
   "metadata": {},
   "outputs": [],
   "source": [
    "cores = mp.cpu_count()"
   ]
  },
  {
   "cell_type": "code",
   "execution_count": 10,
   "id": "1fe08acd-fdcc-40e6-81b8-2e5a9a67714e",
   "metadata": {},
   "outputs": [],
   "source": [
    "def par_mult(A, B):\n",
    "    num_cores = mp.cpu_count()\n",
    "    size_col = math.ceil(n_col_B/num_cores)\n",
    "    size_fil = math.ceil(n_fil_A/num_cores)\n",
    "    MC = RawArray('i', n_fil_A * n_col_B)\n",
    "    cores = []\n",
    "    for cores in range(num_core):\n",
    "        i_MC = (cores*size_fil, n_fil_A)\n",
    "        f_MC = ((cores+1)*size_fil, n_fil_A)\n",
    "        cores.append(mp.Process(target = par_core), args=(A, B, i_MC, f_MC))\n",
    "    for core in range(num_core):\n",
    "        cores.start()\n",
    "    for core in cores:\n",
    "        core.join()\n",
    "    C_2D = [[0]*n_col_B for i in range(n_fil_A)]\n",
    "    for i in range(n_fil_A):\n",
    "        for j in range(n_col_B):\n",
    "            C_2D[i][j] = MC[i*n_col_B+j]\n",
    "    return C_2D"
   ]
  },
  {
   "cell_type": "code",
   "execution_count": 11,
   "id": "ee675025-f072-4498-940d-3ca5833fd042",
   "metadata": {},
   "outputs": [
    {
     "ename": "SyntaxError",
     "evalue": "invalid syntax (2469434207.py, line 4)",
     "output_type": "error",
     "traceback": [
      "\u001b[1;36m  Cell \u001b[1;32mIn[11], line 4\u001b[1;36m\u001b[0m\n\u001b[1;33m    MC[i*len(B[0]) + j += A[i][k] * B[k][j]]\u001b[0m\n\u001b[1;37m                       ^\u001b[0m\n\u001b[1;31mSyntaxError\u001b[0m\u001b[1;31m:\u001b[0m invalid syntax\n"
     ]
    }
   ],
   "source": [
    "def par_core(A,B,MC,i_MC,f_MC):\n",
    "    for i in range(len(B[0])):\n",
    "        for k in range(len(A[0])):\n",
    "            MC[i*len(B[0]) + j += A[i][k] * B[k][j]"
   ]
  },
  {
   "cell_type": "code",
   "execution_count": null,
   "id": "cdfe6eef-5e95-4028-ba00-fd0b91bd7d1e",
   "metadata": {},
   "outputs": [],
   "source": []
  }
 ],
 "metadata": {
  "kernelspec": {
   "display_name": "Python 3 (ipykernel)",
   "language": "python",
   "name": "python3"
  },
  "language_info": {
   "codemirror_mode": {
    "name": "ipython",
    "version": 3
   },
   "file_extension": ".py",
   "mimetype": "text/x-python",
   "name": "python",
   "nbconvert_exporter": "python",
   "pygments_lexer": "ipython3",
   "version": "3.11.5"
  }
 },
 "nbformat": 4,
 "nbformat_minor": 5
}
