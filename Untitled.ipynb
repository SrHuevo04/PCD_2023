{
 "cells": [
  {
   "cell_type": "markdown",
   "id": "d160d0da-5328-4fa8-a595-b5979bc7f22d",
   "metadata": {},
   "source": [
    "### Matriz A que tenga 300 X 300"
   ]
  },
  {
   "cell_type": "code",
   "execution_count": 29,
   "id": "6ca33b21-e126-4b61-b9c7-1e950f2ff1e1",
   "metadata": {},
   "outputs": [],
   "source": [
    "filas = 300\n",
    "columnas = 300"
   ]
  },
  {
   "cell_type": "code",
   "execution_count": 30,
   "id": "eb72cece-3c7a-4bb5-aa0f-98e2cb5ecace",
   "metadata": {},
   "outputs": [],
   "source": [
    "matriz = []"
   ]
  },
  {
   "cell_type": "code",
   "execution_count": 31,
   "id": "35793da1-a9c2-42e4-98f8-88f98aa5cd04",
   "metadata": {},
   "outputs": [],
   "source": [
    "import random"
   ]
  },
  {
   "cell_type": "code",
   "execution_count": 32,
   "id": "041b7326-9508-481b-8e96-8240662e20e5",
   "metadata": {},
   "outputs": [],
   "source": [
    "for i in range(300):\n",
    "    for j in range(300):\n",
    "        matriz = [i, j]"
   ]
  },
  {
   "cell_type": "code",
   "execution_count": 33,
   "id": "ea3dea70-fd75-4d59-b1ac-9d55802bad6f",
   "metadata": {},
   "outputs": [
    {
     "data": {
      "text/plain": [
       "[299, 299]"
      ]
     },
     "execution_count": 33,
     "metadata": {},
     "output_type": "execute_result"
    }
   ],
   "source": [
    "matriz"
   ]
  },
  {
   "cell_type": "code",
   "execution_count": 51,
   "id": "7f991d17-4e84-4d53-9b1b-122cbe069f6b",
   "metadata": {},
   "outputs": [],
   "source": [
    "matriz = [[random.randint(0, 222) for i in range(fil_A)] for j in range(col_A)]"
   ]
  },
  {
   "cell_type": "code",
   "execution_count": 52,
   "id": "9e4ffd04-0364-4e1d-93aa-4deeb5dfe2ad",
   "metadata": {},
   "outputs": [],
   "source": [
    "matriz_B = [[random.randint(0,222) for i in range(fil_B)] for j in range(col_B)]"
   ]
  },
  {
   "cell_type": "code",
   "execution_count": 36,
   "id": "036a30ba-56cb-43b6-8371-2fd429aebb42",
   "metadata": {},
   "outputs": [
    {
     "data": {
      "text/plain": [
       "300"
      ]
     },
     "execution_count": 36,
     "metadata": {},
     "output_type": "execute_result"
    }
   ],
   "source": [
    "len(matriz_B[0])\n",
    "len(matriz_B)"
   ]
  },
  {
   "cell_type": "code",
   "execution_count": 53,
   "id": "a7379e6a-e79e-474b-bd93-a88c684ae469",
   "metadata": {},
   "outputs": [
    {
     "name": "stdout",
     "output_type": "stream",
     "text": [
      "Las matrices se pueden multiplicar\n"
     ]
    }
   ],
   "source": [
    "if(len(matriz[0]) == len(matriz_B)):\n",
    "    print(\"Las matrices se pueden multiplicar\")\n",
    "else:\n",
    "    print(\"Las matrices no se pueden multiplicar\")"
   ]
  },
  {
   "cell_type": "code",
   "execution_count": 44,
   "id": "c5a61f34-34b5-432f-89f8-cb63320d6ae0",
   "metadata": {},
   "outputs": [
    {
     "name": "stdin",
     "output_type": "stream",
     "text": [
      "Ingresa las filas de A 300\n"
     ]
    }
   ],
   "source": [
    "fil_A = int(input(\"Ingresa las filas de A\"))"
   ]
  },
  {
   "cell_type": "code",
   "execution_count": 45,
   "id": "b5322786-da7a-49a4-9fc9-3f8628f5ff15",
   "metadata": {},
   "outputs": [
    {
     "name": "stdin",
     "output_type": "stream",
     "text": [
      "Ingresa las columnas de A 300\n"
     ]
    }
   ],
   "source": [
    "col_A = int(input(\"Ingresa las columnas de A\"))"
   ]
  },
  {
   "cell_type": "code",
   "execution_count": 46,
   "id": "567d7dab-7a6c-4e96-8f26-2a80bca9a103",
   "metadata": {},
   "outputs": [
    {
     "name": "stdin",
     "output_type": "stream",
     "text": [
      "Ingrese las filas de B 300\n"
     ]
    }
   ],
   "source": [
    "fil_B = int(input(\"Ingrese las filas de B\"))"
   ]
  },
  {
   "cell_type": "code",
   "execution_count": 47,
   "id": "007e10da-5961-4cb0-ab31-7b4f17996236",
   "metadata": {},
   "outputs": [
    {
     "name": "stdin",
     "output_type": "stream",
     "text": [
      "Ingrese las columnas de B 300\n"
     ]
    }
   ],
   "source": [
    "col_B = int(input(\"Ingrese las columnas de B\"))"
   ]
  },
  {
   "cell_type": "code",
   "execution_count": 48,
   "id": "2bcd38ee-f888-445b-94cf-18209da0356c",
   "metadata": {},
   "outputs": [
    {
     "name": "stdout",
     "output_type": "stream",
     "text": [
      "Las dimensiones introducidas son  300 ,  300\n"
     ]
    }
   ],
   "source": [
    "print(\"Las dimensiones introducidas son \", col_A, \", \", fil_A)"
   ]
  },
  {
   "cell_type": "code",
   "execution_count": 49,
   "id": "9b6add48-d0f9-40b6-a045-39f04ab3c5dd",
   "metadata": {},
   "outputs": [
    {
     "name": "stdout",
     "output_type": "stream",
     "text": [
      "Las dimensiones introducidas son  300 ,  300\n"
     ]
    }
   ],
   "source": [
    "print(\"Las dimensiones introducidas son \", col_B, \", \", fil_B)"
   ]
  },
  {
   "cell_type": "code",
   "execution_count": 56,
   "id": "03b83478-34f0-40f1-a423-894935888c3a",
   "metadata": {},
   "outputs": [
    {
     "ename": "IndentationError",
     "evalue": "expected an indented block after 'if' statement on line 2 (4098284448.py, line 3)",
     "output_type": "error",
     "traceback": [
      "\u001b[1;36m  Cell \u001b[1;32mIn[56], line 3\u001b[1;36m\u001b[0m\n\u001b[1;33m    print(\"Las matrices se pueden multiplicar\")\u001b[0m\n\u001b[1;37m    ^\u001b[0m\n\u001b[1;31mIndentationError\u001b[0m\u001b[1;31m:\u001b[0m expected an indented block after 'if' statement on line 2\n"
     ]
    }
   ],
   "source": [
    "def multiplicarMatrices(A, B):\n",
    "    if(len(matriz[0]) == len(matriz_B)):\n",
    "    print(\"Las matrices se pueden multiplicar\")\n",
    "else:\n",
    "    print(\"Las matrices no se pueden multiplicar\")\n",
    "        "
   ]
  },
  {
   "cell_type": "code",
   "execution_count": null,
   "id": "50a5d8bb-938f-4556-9298-67ae64300040",
   "metadata": {},
   "outputs": [],
   "source": [
    "multiplicarMatrices(matriz, matriz_B)"
   ]
  },
  {
   "cell_type": "code",
   "execution_count": null,
   "id": "3138587e-ebe4-4d77-88d1-72d01ac0f442",
   "metadata": {},
   "outputs": [],
   "source": []
  }
 ],
 "metadata": {
  "kernelspec": {
   "display_name": "Python 3 (ipykernel)",
   "language": "python",
   "name": "python3"
  },
  "language_info": {
   "codemirror_mode": {
    "name": "ipython",
    "version": 3
   },
   "file_extension": ".py",
   "mimetype": "text/x-python",
   "name": "python",
   "nbconvert_exporter": "python",
   "pygments_lexer": "ipython3",
   "version": "3.11.5"
  }
 },
 "nbformat": 4,
 "nbformat_minor": 5
}
