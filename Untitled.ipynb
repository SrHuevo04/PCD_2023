{
 "cells": [
  {
   "cell_type": "markdown",
   "id": "aa7bd664-cfb2-4674-aede-1932a443efd0",
   "metadata": {},
   "source": [
    "# Sockets (Communication btw 2 independent programs)"
   ]
  },
  {
   "cell_type": "code",
   "execution_count": 1,
   "id": "76ee35e2-90a2-468e-b1a5-2f06460a5681",
   "metadata": {},
   "outputs": [],
   "source": [
    "import socket as sc"
   ]
  },
  {
   "cell_type": "code",
   "execution_count": 2,
   "id": "911c5bd5-5191-49eb-94b1-8af6cc486676",
   "metadata": {},
   "outputs": [],
   "source": [
    "s = sc.socket()"
   ]
  },
  {
   "cell_type": "code",
   "execution_count": 3,
   "id": "f2a098dd-793a-47fa-9812-3baae8f8c813",
   "metadata": {},
   "outputs": [
    {
     "data": {
      "text/plain": [
       "'LAPTOP-2PR4LQ1S'"
      ]
     },
     "execution_count": 3,
     "metadata": {},
     "output_type": "execute_result"
    }
   ],
   "source": [
    "sc.gethostname()"
   ]
  },
  {
   "cell_type": "code",
   "execution_count": 4,
   "id": "2c8f5ecd-575d-474d-85ce-549fc8e1508a",
   "metadata": {},
   "outputs": [
    {
     "ename": "KeyboardInterrupt",
     "evalue": "Interrupted by user",
     "output_type": "error",
     "traceback": [
      "\u001b[1;31m---------------------------------------------------------------------------\u001b[0m",
      "\u001b[1;31mKeyboardInterrupt\u001b[0m                         Traceback (most recent call last)",
      "Cell \u001b[1;32mIn[4], line 1\u001b[0m\n\u001b[1;32m----> 1\u001b[0m port \u001b[38;5;241m=\u001b[39m \u001b[38;5;28;43minput\u001b[39;49m\u001b[43m(\u001b[49m\u001b[38;5;124;43m\"\u001b[39;49m\u001b[38;5;124;43mIntroduzca el puerto que desee usar\u001b[39;49m\u001b[38;5;124;43m\"\u001b[39;49m\u001b[43m)\u001b[49m\n",
      "File \u001b[1;32m~\\AppData\\Local\\Programs\\Python\\Python311\\Lib\\site-packages\\ipykernel\\kernelbase.py:1202\u001b[0m, in \u001b[0;36mKernel.raw_input\u001b[1;34m(self, prompt)\u001b[0m\n\u001b[0;32m   1200\u001b[0m     msg \u001b[38;5;241m=\u001b[39m \u001b[38;5;124m\"\u001b[39m\u001b[38;5;124mraw_input was called, but this frontend does not support input requests.\u001b[39m\u001b[38;5;124m\"\u001b[39m\n\u001b[0;32m   1201\u001b[0m     \u001b[38;5;28;01mraise\u001b[39;00m StdinNotImplementedError(msg)\n\u001b[1;32m-> 1202\u001b[0m \u001b[38;5;28;01mreturn\u001b[39;00m \u001b[38;5;28;43mself\u001b[39;49m\u001b[38;5;241;43m.\u001b[39;49m\u001b[43m_input_request\u001b[49m\u001b[43m(\u001b[49m\n\u001b[0;32m   1203\u001b[0m \u001b[43m    \u001b[49m\u001b[38;5;28;43mstr\u001b[39;49m\u001b[43m(\u001b[49m\u001b[43mprompt\u001b[49m\u001b[43m)\u001b[49m\u001b[43m,\u001b[49m\n\u001b[0;32m   1204\u001b[0m \u001b[43m    \u001b[49m\u001b[38;5;28;43mself\u001b[39;49m\u001b[38;5;241;43m.\u001b[39;49m\u001b[43m_parent_ident\u001b[49m\u001b[43m[\u001b[49m\u001b[38;5;124;43m\"\u001b[39;49m\u001b[38;5;124;43mshell\u001b[39;49m\u001b[38;5;124;43m\"\u001b[39;49m\u001b[43m]\u001b[49m\u001b[43m,\u001b[49m\n\u001b[0;32m   1205\u001b[0m \u001b[43m    \u001b[49m\u001b[38;5;28;43mself\u001b[39;49m\u001b[38;5;241;43m.\u001b[39;49m\u001b[43mget_parent\u001b[49m\u001b[43m(\u001b[49m\u001b[38;5;124;43m\"\u001b[39;49m\u001b[38;5;124;43mshell\u001b[39;49m\u001b[38;5;124;43m\"\u001b[39;49m\u001b[43m)\u001b[49m\u001b[43m,\u001b[49m\n\u001b[0;32m   1206\u001b[0m \u001b[43m    \u001b[49m\u001b[43mpassword\u001b[49m\u001b[38;5;241;43m=\u001b[39;49m\u001b[38;5;28;43;01mFalse\u001b[39;49;00m\u001b[43m,\u001b[49m\n\u001b[0;32m   1207\u001b[0m \u001b[43m\u001b[49m\u001b[43m)\u001b[49m\n",
      "File \u001b[1;32m~\\AppData\\Local\\Programs\\Python\\Python311\\Lib\\site-packages\\ipykernel\\kernelbase.py:1245\u001b[0m, in \u001b[0;36mKernel._input_request\u001b[1;34m(self, prompt, ident, parent, password)\u001b[0m\n\u001b[0;32m   1242\u001b[0m \u001b[38;5;28;01mexcept\u001b[39;00m \u001b[38;5;167;01mKeyboardInterrupt\u001b[39;00m:\n\u001b[0;32m   1243\u001b[0m     \u001b[38;5;66;03m# re-raise KeyboardInterrupt, to truncate traceback\u001b[39;00m\n\u001b[0;32m   1244\u001b[0m     msg \u001b[38;5;241m=\u001b[39m \u001b[38;5;124m\"\u001b[39m\u001b[38;5;124mInterrupted by user\u001b[39m\u001b[38;5;124m\"\u001b[39m\n\u001b[1;32m-> 1245\u001b[0m     \u001b[38;5;28;01mraise\u001b[39;00m \u001b[38;5;167;01mKeyboardInterrupt\u001b[39;00m(msg) \u001b[38;5;28;01mfrom\u001b[39;00m \u001b[38;5;28;01mNone\u001b[39;00m\n\u001b[0;32m   1246\u001b[0m \u001b[38;5;28;01mexcept\u001b[39;00m \u001b[38;5;167;01mException\u001b[39;00m:\n\u001b[0;32m   1247\u001b[0m     \u001b[38;5;28mself\u001b[39m\u001b[38;5;241m.\u001b[39mlog\u001b[38;5;241m.\u001b[39mwarning(\u001b[38;5;124m\"\u001b[39m\u001b[38;5;124mInvalid Message:\u001b[39m\u001b[38;5;124m\"\u001b[39m, exc_info\u001b[38;5;241m=\u001b[39m\u001b[38;5;28;01mTrue\u001b[39;00m)\n",
      "\u001b[1;31mKeyboardInterrupt\u001b[0m: Interrupted by user"
     ]
    }
   ],
   "source": [
    "port = input(\"Introduzca el puerto que desee usar\")"
   ]
  },
  {
   "cell_type": "code",
   "execution_count": null,
   "id": "49ea8eb1-8bab-468d-95c7-539578d8413a",
   "metadata": {},
   "outputs": [],
   "source": [
    "host = input(\"Introduzca la ip del servidor al que se quiera conectan\")"
   ]
  },
  {
   "cell_type": "code",
   "execution_count": null,
   "id": "38825d49-91c3-411e-a7d3-05cc4f959489",
   "metadata": {},
   "outputs": [],
   "source": [
    "s.connect((host, int(port)))"
   ]
  },
  {
   "cell_type": "code",
   "execution_count": null,
   "id": "26409860-d7e4-4b30-95fe-b653edfe3cb1",
   "metadata": {},
   "outputs": [],
   "source": []
  },
  {
   "cell_type": "code",
   "execution_count": 9,
   "id": "262c4da4-f8d4-4eeb-bf43-669b0f0703d1",
   "metadata": {},
   "outputs": [
    {
     "name": "stdout",
     "output_type": "stream",
     "text": [
      "\n",
      "Configuraci¢n IP de Windows\n",
      "\n",
      "\n",
      "Adaptador de LAN inal mbrica Conexi¢n de  rea local* 3:\n",
      "\n",
      "   Estado de los medios. . . . . . . . . . . : medios desconectados\n",
      "   Sufijo DNS espec¡fico para la conexi¢n. . : \n",
      "\n",
      "Adaptador de LAN inal mbrica Conexi¢n de  rea local* 12:\n",
      "\n",
      "   Estado de los medios. . . . . . . . . . . : medios desconectados\n",
      "   Sufijo DNS espec¡fico para la conexi¢n. . : \n",
      "\n",
      "Adaptador de Ethernet VMware Network Adapter VMnet1:\n",
      "\n",
      "   Sufijo DNS espec¡fico para la conexi¢n. . : \n",
      "   V¡nculo: direcci¢n IPv6 local. . . : fe80::e608:7645:337f:731e%22\n",
      "   Direcci¢n IPv4. . . . . . . . . . . . . . : 192.168.52.1\n",
      "   M scara de subred . . . . . . . . . . . . : 255.255.255.0\n",
      "   Puerta de enlace predeterminada . . . . . : \n",
      "\n",
      "Adaptador de Ethernet VMware Network Adapter VMnet8:\n",
      "\n",
      "   Sufijo DNS espec¡fico para la conexi¢n. . : \n",
      "   V¡nculo: direcci¢n IPv6 local. . . : fe80::db2c:d1f:ab28:f3e9%16\n",
      "   Direcci¢n IPv4. . . . . . . . . . . . . . : 192.168.131.1\n",
      "   M scara de subred . . . . . . . . . . . . : 255.255.255.0\n",
      "   Puerta de enlace predeterminada . . . . . : \n",
      "\n",
      "Adaptador de LAN inal mbrica Wi-Fi:\n",
      "\n",
      "   Sufijo DNS espec¡fico para la conexi¢n. . : home\n",
      "   V¡nculo: direcci¢n IPv6 local. . . : fe80::969f:d871:f723:973a%9\n",
      "   Direcci¢n IPv4. . . . . . . . . . . . . . : 192.168.1.97\n",
      "   M scara de subred . . . . . . . . . . . . : 255.255.255.0\n",
      "   Puerta de enlace predeterminada . . . . . : 192.168.1.1\n",
      "\n",
      "Adaptador de Ethernet Conexi¢n de red Bluetooth:\n",
      "\n",
      "   Estado de los medios. . . . . . . . . . . : medios desconectados\n",
      "   Sufijo DNS espec¡fico para la conexi¢n. . : \n"
     ]
    }
   ],
   "source": [
    "!ipconfig"
   ]
  },
  {
   "cell_type": "markdown",
   "id": "5e69f9dc-c40b-4c57-9115-a1358bfb720e",
   "metadata": {},
   "source": [
    "## Cliente "
   ]
  },
  {
   "cell_type": "code",
   "execution_count": null,
   "id": "7f9432a1-887c-401f-aeb0-aeb527616d8a",
   "metadata": {},
   "outputs": [],
   "source": []
  },
  {
   "cell_type": "markdown",
   "id": "6f25b55e-a255-40d1-b21e-c820113e3586",
   "metadata": {},
   "source": [
    "## Servidor"
   ]
  },
  {
   "cell_type": "code",
   "execution_count": 11,
   "id": "33d25240-8f4f-4b4f-81b9-80f10380c307",
   "metadata": {},
   "outputs": [],
   "source": [
    "import threading as th"
   ]
  },
  {
   "cell_type": "code",
   "execution_count": 17,
   "id": "8f1b58ac-56e9-4055-9d8c-d8def2070479",
   "metadata": {},
   "outputs": [],
   "source": [
    "th.Thread(target = aceptar, daemon=True).start()\n",
    "th.Thread(target = procesar, daemon=True).start()"
   ]
  },
  {
   "cell_type": "code",
   "execution_count": 13,
   "id": "cb299e59-2398-4a6c-abcd-661c56dd8c08",
   "metadata": {},
   "outputs": [],
   "source": [
    "def aceptar():\n",
    "    pass"
   ]
  },
  {
   "cell_type": "code",
   "execution_count": 14,
   "id": "f0ee09e2-a68b-4036-b01a-082949c4780d",
   "metadata": {},
   "outputs": [],
   "source": [
    "def procesar():\n",
    "    pass"
   ]
  },
  {
   "cell_type": "code",
   "execution_count": 16,
   "id": "a8fc98a1-12e5-492d-a835-9e6f2d6960b5",
   "metadata": {},
   "outputs": [],
   "source": [
    "def broadcast():\n",
    "    pass"
   ]
  },
  {
   "cell_type": "code",
   "execution_count": null,
   "id": "fc5d717c-4180-4c5c-b989-ab4ba8cdb00b",
   "metadata": {},
   "outputs": [],
   "source": [
    "class Server():\n",
    "    def __init__():\n",
    "        "
   ]
  }
 ],
 "metadata": {
  "kernelspec": {
   "display_name": "Python 3 (ipykernel)",
   "language": "python",
   "name": "python3"
  },
  "language_info": {
   "codemirror_mode": {
    "name": "ipython",
    "version": 3
   },
   "file_extension": ".py",
   "mimetype": "text/x-python",
   "name": "python",
   "nbconvert_exporter": "python",
   "pygments_lexer": "ipython3",
   "version": "3.11.5"
  }
 },
 "nbformat": 4,
 "nbformat_minor": 5
}
