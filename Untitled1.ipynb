{
 "cells": [
  {
   "cell_type": "code",
   "execution_count": 1,
   "id": "3a5931d9-20ef-4d06-a2d1-0f29e2cebb87",
   "metadata": {},
   "outputs": [],
   "source": [
    "import os, threading as th, time, urllib.request as rq, concurrent as ct, IPython as IP"
   ]
  },
  {
   "cell_type": "code",
   "execution_count": 1,
   "id": "14f93eb8-1660-4ccc-b957-755afff66451",
   "metadata": {},
   "outputs": [
    {
     "name": "stdin",
     "output_type": "stream",
     "text": [
      "number 03\n"
     ]
    }
   ],
   "source": [
    "img = int(input(\"number\"))"
   ]
  },
  {
   "cell_type": "code",
   "execution_count": null,
   "id": "ea503992-8188-4f29-8b06-f0d40d590481",
   "metadata": {},
   "outputs": [],
   "source": [
    "https://storage.googleapis.com/christian_vladimir_sucuzhanay_bucket/pictures_videos/"
   ]
  },
  {
   "cell_type": "code",
   "execution_count": 5,
   "id": "48aff234-e797-41f9-8d67-2da8bac5ee02",
   "metadata": {},
   "outputs": [],
   "source": [
    "img_url = 'https://storage.googleapis.com/christian_vladimir_sucuzhanay_bucket/pictures_videos/pic{:03d}.jpeg'.format(img)"
   ]
  },
  {
   "cell_type": "code",
   "execution_count": 6,
   "id": "a779c3d8-bda8-47b9-a103-5914b6ebc1d8",
   "metadata": {},
   "outputs": [
    {
     "data": {
      "text/plain": [
       "'https://storage.googleapis.com/christian_vladimir_sucuzhanay_bucket/pictures_videos/pic001.jpeg'"
      ]
     },
     "execution_count": 6,
     "metadata": {},
     "output_type": "execute_result"
    }
   ],
   "source": [
    "img_url"
   ]
  },
  {
   "cell_type": "code",
   "execution_count": 2,
   "id": "ff1af1de-397b-459c-a76d-fe0c9a514227",
   "metadata": {},
   "outputs": [],
   "source": [
    "a_url = []"
   ]
  },
  {
   "cell_type": "code",
   "execution_count": 3,
   "id": "7cf6acdd-a3ca-4bfc-ae3c-3078ca3c42e4",
   "metadata": {},
   "outputs": [
    {
     "name": "stdout",
     "output_type": "stream",
     "text": [
      "https://storage.cloud.google.com/pcd-images-threads/IMG_3727.jpeg\n",
      "https://storage.cloud.google.com/pcd-images-threads/IMG_3728.jpeg\n",
      "https://storage.cloud.google.com/pcd-images-threads/IMG_3729.jpeg\n",
      "https://storage.cloud.google.com/pcd-images-threads/IMG_3730.jpeg\n",
      "https://storage.cloud.google.com/pcd-images-threads/IMG_3731.jpeg\n",
      "https://storage.cloud.google.com/pcd-images-threads/IMG_3732.jpeg\n",
      "https://storage.cloud.google.com/pcd-images-threads/IMG_3733.jpeg\n",
      "https://storage.cloud.google.com/pcd-images-threads/IMG_3734.jpeg\n",
      "https://storage.cloud.google.com/pcd-images-threads/IMG_3735.jpeg\n",
      "https://storage.cloud.google.com/pcd-images-threads/IMG_3736.jpeg\n"
     ]
    }
   ],
   "source": [
    "for i in range(10):\n",
    "    img_uri = 'https://storage.cloud.google.com/pcd-images-threads/IMG_'+ str(i + 3727) +'.jpeg'\n",
    "    print(img_uri)\n",
    "    a_url.append(img_uri)\n"
   ]
  },
  {
   "cell_type": "code",
   "execution_count": 4,
   "id": "527a9054-c337-455f-b280-65ed577facf5",
   "metadata": {},
   "outputs": [
    {
     "data": {
      "text/plain": [
       "['https://storage.cloud.google.com/pcd-images-threads/IMG_3727.jpeg',\n",
       " 'https://storage.cloud.google.com/pcd-images-threads/IMG_3728.jpeg',\n",
       " 'https://storage.cloud.google.com/pcd-images-threads/IMG_3729.jpeg',\n",
       " 'https://storage.cloud.google.com/pcd-images-threads/IMG_3730.jpeg',\n",
       " 'https://storage.cloud.google.com/pcd-images-threads/IMG_3731.jpeg',\n",
       " 'https://storage.cloud.google.com/pcd-images-threads/IMG_3732.jpeg',\n",
       " 'https://storage.cloud.google.com/pcd-images-threads/IMG_3733.jpeg',\n",
       " 'https://storage.cloud.google.com/pcd-images-threads/IMG_3734.jpeg',\n",
       " 'https://storage.cloud.google.com/pcd-images-threads/IMG_3735.jpeg',\n",
       " 'https://storage.cloud.google.com/pcd-images-threads/IMG_3736.jpeg']"
      ]
     },
     "execution_count": 4,
     "metadata": {},
     "output_type": "execute_result"
    }
   ],
   "source": [
    "a_url"
   ]
  },
  {
   "cell_type": "code",
   "execution_count": null,
   "id": "7f40ae64-6044-4c9a-9f38-61c12b07157f",
   "metadata": {},
   "outputs": [],
   "source": []
  },
  {
   "cell_type": "code",
   "execution_count": null,
   "id": "1e8e13f9-c11a-4010-b221-ec612c3d833c",
   "metadata": {},
   "outputs": [],
   "source": [
    "def seq_download_images(image_numbers):\n",
    "    total_bytes = 0 \n",
    "    for num in image_numbers:\n",
    "        total_bytes += download_image(num)\n",
    "    return total_bytes"
   ]
  }
 ],
 "metadata": {
  "kernelspec": {
   "display_name": "Python 3 (ipykernel)",
   "language": "python",
   "name": "python3"
  },
  "language_info": {
   "codemirror_mode": {
    "name": "ipython",
    "version": 3
   },
   "file_extension": ".py",
   "mimetype": "text/x-python",
   "name": "python",
   "nbconvert_exporter": "python",
   "pygments_lexer": "ipython3",
   "version": "3.11.5"
  }
 },
 "nbformat": 4,
 "nbformat_minor": 5
}
